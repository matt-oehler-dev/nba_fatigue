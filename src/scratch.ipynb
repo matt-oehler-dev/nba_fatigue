{
 "cells": [
  {
   "cell_type": "code",
   "execution_count": 1,
   "metadata": {},
   "outputs": [],
   "source": [
    "# !pip install lxml"
   ]
  },
  {
   "cell_type": "code",
   "execution_count": 2,
   "metadata": {},
   "outputs": [],
   "source": [
    "import pandas as pd\n",
    "pd.options.display.max_columns = None\n",
    "# import lxml\n"
   ]
  },
  {
   "cell_type": "code",
   "execution_count": 5,
   "metadata": {},
   "outputs": [
    {
     "name": "stdout",
     "output_type": "stream",
     "text": [
      "<class 'list'>\n",
      "276\n"
     ]
    }
   ],
   "source": [
    "# a = pd.read_html(\"https://www.sportsmediawatch.com/nba-tv-schedule/#May4\")\n",
    "# print(type(a))\n",
    "# print(len(a))"
   ]
  },
  {
   "cell_type": "code",
   "execution_count": 7,
   "metadata": {},
   "outputs": [
    {
     "name": "stdout",
     "output_type": "stream",
     "text": [
      "  team result  win_streak_id  loss_streak_id\n",
      "0    A      w              1               0\n",
      "1    A      w              2               0\n",
      "2    A      l              2               1\n",
      "3    A      w              3               1\n",
      "4    A      w              4               1\n",
      "5    B      w              1               0\n",
      "6    B      l              1               1\n",
      "7    B      l              1               2\n",
      "8    B      w              2               2\n"
     ]
    }
   ],
   "source": [
    "# Sample DataFrame\n",
    "data = {'team': ['A', 'A', 'A', 'A', 'A', 'B', 'B', 'B', 'B'],\n",
    "        'result': ['w', 'w', 'l', 'w', 'w', 'w', 'l', 'l', 'w']}\n",
    "\n",
    "df = pd.DataFrame(data)\n",
    "\n",
    "# Calculate win streak and loss streak\n",
    "df['win_streak_id'] = (df['result'] == 'w').astype(int).groupby(df['team']).cumsum()\n",
    "df['loss_streak_id'] = (df['result'] == 'l').astype(int).groupby(df['team']).cumsum()\n",
    "\n",
    "# # Calculate win streak and loss streak with resets\n",
    "# df['win_streak'] = df.apply(lambda row: row.groupby('team').cumsum() if row['result'] == 'w' else 0, axis=1)\n",
    "# df['loss_streak'] = df.apply(lambda row: row.groupby('team').cumsum() if row['result'] == 'l' else 0, axis=1)\n",
    "\n",
    "\n",
    "print(df)"
   ]
  },
  {
   "cell_type": "code",
   "execution_count": 6,
   "metadata": {},
   "outputs": [
    {
     "name": "stdout",
     "output_type": "stream",
     "text": [
      "  team result  win_streak  loss_streak\n",
      "0    A      w           1            0\n",
      "1    A      w           1            0\n",
      "2    A      l           0            1\n",
      "3    A      w           1            0\n",
      "4    A      w           1            0\n",
      "5    B      w           1            0\n",
      "6    B      l           0            1\n",
      "7    B      l           0            1\n",
      "8    B      w           1            0\n"
     ]
    }
   ],
   "source": [
    "# Sample DataFrame\n",
    "data = {'team': ['A', 'A', 'A', 'A', 'A', 'B', 'B', 'B', 'B'],\n",
    "        'result': ['w', 'w', 'l', 'w', 'w', 'w', 'l', 'l', 'w']}\n",
    "\n",
    "df = pd.DataFrame(data)\n",
    "\n",
    "# Calculate win streak and loss streak with resets\n",
    "def calculate_streaks(row):\n",
    "    if row['result'] == 'w':\n",
    "        row['win_streak'] = row['win_streak'] + 1\n",
    "        row['loss_streak'] = 0\n",
    "    elif row['result'] == 'l':\n",
    "        row['win_streak'] = 0\n",
    "        row['loss_streak'] = row['loss_streak'] + 1\n",
    "    return row\n",
    "\n",
    "df['win_streak'] = 0\n",
    "df['loss_streak'] = 0\n",
    "df = df.apply(calculate_streaks, axis=1)\n",
    "\n",
    "print(df)\n"
   ]
  },
  {
   "cell_type": "code",
   "execution_count": 12,
   "metadata": {},
   "outputs": [
    {
     "data": {
      "text/html": [
       "<div>\n",
       "<style scoped>\n",
       "    .dataframe tbody tr th:only-of-type {\n",
       "        vertical-align: middle;\n",
       "    }\n",
       "\n",
       "    .dataframe tbody tr th {\n",
       "        vertical-align: top;\n",
       "    }\n",
       "\n",
       "    .dataframe thead th {\n",
       "        text-align: right;\n",
       "    }\n",
       "</style>\n",
       "<table border=\"1\" class=\"dataframe\">\n",
       "  <thead>\n",
       "    <tr style=\"text-align: right;\">\n",
       "      <th></th>\n",
       "      <th>team</th>\n",
       "      <th>result</th>\n",
       "      <th>start_of_streak</th>\n",
       "      <th>streak_id</th>\n",
       "      <th>streak_counter</th>\n",
       "      <th>result2</th>\n",
       "    </tr>\n",
       "  </thead>\n",
       "  <tbody>\n",
       "    <tr>\n",
       "      <th>0</th>\n",
       "      <td>A</td>\n",
       "      <td>w</td>\n",
       "      <td>True</td>\n",
       "      <td>1</td>\n",
       "      <td>1</td>\n",
       "      <td>w</td>\n",
       "    </tr>\n",
       "    <tr>\n",
       "      <th>1</th>\n",
       "      <td>A</td>\n",
       "      <td>w</td>\n",
       "      <td>False</td>\n",
       "      <td>1</td>\n",
       "      <td>2</td>\n",
       "      <td>w</td>\n",
       "    </tr>\n",
       "    <tr>\n",
       "      <th>2</th>\n",
       "      <td>A</td>\n",
       "      <td>l</td>\n",
       "      <td>True</td>\n",
       "      <td>2</td>\n",
       "      <td>1</td>\n",
       "      <td>l</td>\n",
       "    </tr>\n",
       "    <tr>\n",
       "      <th>3</th>\n",
       "      <td>A</td>\n",
       "      <td>w</td>\n",
       "      <td>True</td>\n",
       "      <td>3</td>\n",
       "      <td>1</td>\n",
       "      <td>w</td>\n",
       "    </tr>\n",
       "    <tr>\n",
       "      <th>4</th>\n",
       "      <td>A</td>\n",
       "      <td>w</td>\n",
       "      <td>False</td>\n",
       "      <td>3</td>\n",
       "      <td>2</td>\n",
       "      <td>w</td>\n",
       "    </tr>\n",
       "    <tr>\n",
       "      <th>5</th>\n",
       "      <td>B</td>\n",
       "      <td>w</td>\n",
       "      <td>False</td>\n",
       "      <td>3</td>\n",
       "      <td>3</td>\n",
       "      <td>w</td>\n",
       "    </tr>\n",
       "    <tr>\n",
       "      <th>6</th>\n",
       "      <td>B</td>\n",
       "      <td>l</td>\n",
       "      <td>True</td>\n",
       "      <td>4</td>\n",
       "      <td>1</td>\n",
       "      <td>l</td>\n",
       "    </tr>\n",
       "    <tr>\n",
       "      <th>7</th>\n",
       "      <td>B</td>\n",
       "      <td>l</td>\n",
       "      <td>False</td>\n",
       "      <td>4</td>\n",
       "      <td>2</td>\n",
       "      <td>l</td>\n",
       "    </tr>\n",
       "    <tr>\n",
       "      <th>8</th>\n",
       "      <td>B</td>\n",
       "      <td>w</td>\n",
       "      <td>True</td>\n",
       "      <td>5</td>\n",
       "      <td>1</td>\n",
       "      <td>w</td>\n",
       "    </tr>\n",
       "  </tbody>\n",
       "</table>\n",
       "</div>"
      ],
      "text/plain": [
       "  team result  start_of_streak  streak_id  streak_counter result2\n",
       "0    A      w             True          1               1       w\n",
       "1    A      w            False          1               2       w\n",
       "2    A      l             True          2               1       l\n",
       "3    A      w             True          3               1       w\n",
       "4    A      w            False          3               2       w\n",
       "5    B      w            False          3               3       w\n",
       "6    B      l             True          4               1       l\n",
       "7    B      l            False          4               2       l\n",
       "8    B      w             True          5               1       w"
      ]
     },
     "execution_count": 12,
     "metadata": {},
     "output_type": "execute_result"
    }
   ],
   "source": [
    "# https://joshdevlin.com/blog/calculate-streaks-in-pandas/\n",
    "\n",
    "\n",
    "data = {'team': ['A', 'A', 'A', 'A', 'A', 'B', 'B', 'B', 'B'],\n",
    "        'result': ['w', 'w', 'l', 'w', 'w', 'w', 'l', 'l', 'w']}\n",
    "df = pd.DataFrame(data)\n",
    "\n",
    "df['start_of_streak'] = df.result.ne(df['result'].shift())\n",
    "df['streak_id'] = df['start_of_streak'].cumsum()\n",
    "\n",
    "df['streak_counter'] = df.groupby('streak_id').cumcount() + 1\n",
    "\n",
    "df['result2'] = df['result']\n",
    "\n",
    "\n",
    "\n",
    "\n",
    "df"
   ]
  },
  {
   "cell_type": "code",
   "execution_count": 3,
   "metadata": {},
   "outputs": [
    {
     "ename": "ValueError",
     "evalue": "window must be an integer 0 or greater",
     "output_type": "error",
     "traceback": [
      "\u001b[0;31m---------------------------------------------------------------------------\u001b[0m",
      "\u001b[0;31mValueError\u001b[0m                                Traceback (most recent call last)",
      "Cell \u001b[0;32mIn[3], line 19\u001b[0m\n\u001b[1;32m     16\u001b[0m df \u001b[39m=\u001b[39m df\u001b[39m.\u001b[39msort_values(by\u001b[39m=\u001b[39m[\u001b[39m'\u001b[39m\u001b[39mteam\u001b[39m\u001b[39m'\u001b[39m, \u001b[39m'\u001b[39m\u001b[39mGAME_DATE\u001b[39m\u001b[39m'\u001b[39m])\n\u001b[1;32m     18\u001b[0m \u001b[39m# Group by team and calculate the number of previous games in the last 7 days\u001b[39;00m\n\u001b[0;32m---> 19\u001b[0m df[\u001b[39m'\u001b[39m\u001b[39mprevious_games_last_7_days\u001b[39m\u001b[39m'\u001b[39m] \u001b[39m=\u001b[39m df\u001b[39m.\u001b[39;49mgroupby(\u001b[39m'\u001b[39;49m\u001b[39mteam\u001b[39;49m\u001b[39m'\u001b[39;49m)[\u001b[39m'\u001b[39;49m\u001b[39mGAME_DATE\u001b[39;49m\u001b[39m'\u001b[39;49m]\u001b[39m.\u001b[39;49mrolling(\u001b[39m'\u001b[39;49m\u001b[39m2D\u001b[39;49m\u001b[39m'\u001b[39;49m)\u001b[39m.\u001b[39mapply(\u001b[39mlambda\u001b[39;00m x: x\u001b[39m.\u001b[39msize \u001b[39m-\u001b[39m \u001b[39m1\u001b[39m)\u001b[39m.\u001b[39mreset_index(level\u001b[39m=\u001b[39m\u001b[39m0\u001b[39m, drop\u001b[39m=\u001b[39m\u001b[39mTrue\u001b[39;00m)\n\u001b[1;32m     21\u001b[0m \u001b[39mprint\u001b[39m(df)\n",
      "File \u001b[0;32m~/.pyenv/versions/3.11.0/envs/nba-fatigue/lib/python3.11/site-packages/pandas/core/groupby/groupby.py:2760\u001b[0m, in \u001b[0;36mGroupBy.rolling\u001b[0;34m(self, *args, **kwargs)\u001b[0m\n\u001b[1;32m   2630\u001b[0m \u001b[39m\u001b[39m\u001b[39m\"\"\"\u001b[39;00m\n\u001b[1;32m   2631\u001b[0m \u001b[39mReturn a rolling grouper, providing rolling functionality per group.\u001b[39;00m\n\u001b[1;32m   2632\u001b[0m \n\u001b[0;32m   (...)\u001b[0m\n\u001b[1;32m   2756\u001b[0m \u001b[39m  3  4  0.705\u001b[39;00m\n\u001b[1;32m   2757\u001b[0m \u001b[39m\"\"\"\u001b[39;00m\n\u001b[1;32m   2758\u001b[0m \u001b[39mfrom\u001b[39;00m \u001b[39mpandas\u001b[39;00m\u001b[39m.\u001b[39;00m\u001b[39mcore\u001b[39;00m\u001b[39m.\u001b[39;00m\u001b[39mwindow\u001b[39;00m \u001b[39mimport\u001b[39;00m RollingGroupby\n\u001b[0;32m-> 2760\u001b[0m \u001b[39mreturn\u001b[39;00m RollingGroupby(\n\u001b[1;32m   2761\u001b[0m     \u001b[39mself\u001b[39;49m\u001b[39m.\u001b[39;49m_selected_obj,\n\u001b[1;32m   2762\u001b[0m     \u001b[39m*\u001b[39;49margs,\n\u001b[1;32m   2763\u001b[0m     _grouper\u001b[39m=\u001b[39;49m\u001b[39mself\u001b[39;49m\u001b[39m.\u001b[39;49mgrouper,\n\u001b[1;32m   2764\u001b[0m     _as_index\u001b[39m=\u001b[39;49m\u001b[39mself\u001b[39;49m\u001b[39m.\u001b[39;49mas_index,\n\u001b[1;32m   2765\u001b[0m     \u001b[39m*\u001b[39;49m\u001b[39m*\u001b[39;49mkwargs,\n\u001b[1;32m   2766\u001b[0m )\n",
      "File \u001b[0;32m~/.pyenv/versions/3.11.0/envs/nba-fatigue/lib/python3.11/site-packages/pandas/core/window/rolling.py:699\u001b[0m, in \u001b[0;36mBaseWindowGroupby.__init__\u001b[0;34m(self, obj, _grouper, _as_index, *args, **kwargs)\u001b[0m\n\u001b[1;32m    697\u001b[0m \u001b[39mif\u001b[39;00m kwargs\u001b[39m.\u001b[39mget(\u001b[39m\"\u001b[39m\u001b[39mstep\u001b[39m\u001b[39m\"\u001b[39m) \u001b[39mis\u001b[39;00m \u001b[39mnot\u001b[39;00m \u001b[39mNone\u001b[39;00m:\n\u001b[1;32m    698\u001b[0m     \u001b[39mraise\u001b[39;00m \u001b[39mNotImplementedError\u001b[39;00m(\u001b[39m\"\u001b[39m\u001b[39mstep not implemented for groupby\u001b[39m\u001b[39m\"\u001b[39m)\n\u001b[0;32m--> 699\u001b[0m \u001b[39msuper\u001b[39;49m()\u001b[39m.\u001b[39;49m\u001b[39m__init__\u001b[39;49m(obj, \u001b[39m*\u001b[39;49margs, \u001b[39m*\u001b[39;49m\u001b[39m*\u001b[39;49mkwargs)\n",
      "File \u001b[0;32m~/.pyenv/versions/3.11.0/envs/nba-fatigue/lib/python3.11/site-packages/pandas/core/window/rolling.py:160\u001b[0m, in \u001b[0;36mBaseWindow.__init__\u001b[0;34m(self, obj, window, min_periods, center, win_type, axis, on, closed, step, method, selection)\u001b[0m\n\u001b[1;32m    154\u001b[0m     \u001b[39mraise\u001b[39;00m \u001b[39mValueError\u001b[39;00m(\n\u001b[1;32m    155\u001b[0m         \u001b[39mf\u001b[39m\u001b[39m\"\u001b[39m\u001b[39minvalid on specified as \u001b[39m\u001b[39m{\u001b[39;00m\u001b[39mself\u001b[39m\u001b[39m.\u001b[39mon\u001b[39m}\u001b[39;00m\u001b[39m, \u001b[39m\u001b[39m\"\u001b[39m\n\u001b[1;32m    156\u001b[0m         \u001b[39m\"\u001b[39m\u001b[39mmust be a column (of DataFrame), an Index or None\u001b[39m\u001b[39m\"\u001b[39m\n\u001b[1;32m    157\u001b[0m     )\n\u001b[1;32m    159\u001b[0m \u001b[39mself\u001b[39m\u001b[39m.\u001b[39m_selection \u001b[39m=\u001b[39m selection\n\u001b[0;32m--> 160\u001b[0m \u001b[39mself\u001b[39;49m\u001b[39m.\u001b[39;49m_validate()\n",
      "File \u001b[0;32m~/.pyenv/versions/3.11.0/envs/nba-fatigue/lib/python3.11/site-packages/pandas/core/window/rolling.py:1790\u001b[0m, in \u001b[0;36mRolling._validate\u001b[0;34m(self)\u001b[0m\n\u001b[1;32m   1788\u001b[0m     \u001b[39mpass\u001b[39;00m\n\u001b[1;32m   1789\u001b[0m \u001b[39melif\u001b[39;00m \u001b[39mnot\u001b[39;00m is_integer(\u001b[39mself\u001b[39m\u001b[39m.\u001b[39mwindow) \u001b[39mor\u001b[39;00m \u001b[39mself\u001b[39m\u001b[39m.\u001b[39mwindow \u001b[39m<\u001b[39m \u001b[39m0\u001b[39m:\n\u001b[0;32m-> 1790\u001b[0m     \u001b[39mraise\u001b[39;00m \u001b[39mValueError\u001b[39;00m(\u001b[39m\"\u001b[39m\u001b[39mwindow must be an integer 0 or greater\u001b[39m\u001b[39m\"\u001b[39m)\n",
      "\u001b[0;31mValueError\u001b[0m: window must be an integer 0 or greater"
     ]
    }
   ],
   "source": [
    "import pandas as pd\n",
    "\n",
    "# Example DataFrame (replace this with your actual data)\n",
    "data = {\n",
    "    'season_start_year': [2013, 2013, 2013, 2013, 2013],\n",
    "    'city_team_key': ['Atlanta Hawks', 'Atlanta Hawks', 'Atlanta Hawks', 'Atlanta Hawks', 'Atlanta Hawks'],\n",
    "    'team': ['Atlanta Hawks', 'Atlanta Hawks', 'Atlanta Hawks', 'Atlanta Hawks', 'Atlanta Hawks'],\n",
    "    'GAME_DATE': [pd.Timestamp('2013-10-30'), pd.Timestamp('2013-11-01'), pd.Timestamp('2013-11-03'),\n",
    "                  pd.Timestamp('2013-11-05'), pd.Timestamp('2013-11-07')],\n",
    "    # Add more columns as needed\n",
    "}\n",
    "\n",
    "df = pd.DataFrame(data)\n",
    "\n",
    "# Sort the DataFrame by team and GAME_DATE\n",
    "df = df.sort_values(by=['team', 'GAME_DATE'])\n",
    "\n",
    "# Group by team and calculate the number of previous games in the last 7 days\n",
    "df['previous_games_last_7_days'] = df.groupby('team')['GAME_DATE'].rolling('2D').apply(lambda x: x.size - 1).reset_index(level=0, drop=True)\n",
    "\n",
    "print(df)"
   ]
  },
  {
   "cell_type": "code",
   "execution_count": null,
   "metadata": {},
   "outputs": [],
   "source": []
  },
  {
   "cell_type": "code",
   "execution_count": null,
   "metadata": {},
   "outputs": [],
   "source": []
  }
 ],
 "metadata": {
  "kernelspec": {
   "display_name": "nba-fatigue",
   "language": "python",
   "name": "python3"
  },
  "language_info": {
   "codemirror_mode": {
    "name": "ipython",
    "version": 3
   },
   "file_extension": ".py",
   "mimetype": "text/x-python",
   "name": "python",
   "nbconvert_exporter": "python",
   "pygments_lexer": "ipython3",
   "version": "3.11.0"
  },
  "orig_nbformat": 4
 },
 "nbformat": 4,
 "nbformat_minor": 2
}
