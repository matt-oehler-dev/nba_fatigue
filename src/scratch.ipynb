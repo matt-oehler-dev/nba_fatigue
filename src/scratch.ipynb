{
 "cells": [
  {
   "cell_type": "code",
   "execution_count": 1,
   "metadata": {},
   "outputs": [],
   "source": [
    "# !pip install lxml"
   ]
  },
  {
   "cell_type": "code",
   "execution_count": 2,
   "metadata": {},
   "outputs": [],
   "source": [
    "import pandas as pd\n",
    "pd.options.display.max_columns = None\n",
    "# import lxml\n"
   ]
  },
  {
   "cell_type": "code",
   "execution_count": 5,
   "metadata": {},
   "outputs": [
    {
     "name": "stdout",
     "output_type": "stream",
     "text": [
      "<class 'list'>\n",
      "276\n"
     ]
    }
   ],
   "source": [
    "# a = pd.read_html(\"https://www.sportsmediawatch.com/nba-tv-schedule/#May4\")\n",
    "# print(type(a))\n",
    "# print(len(a))"
   ]
  },
  {
   "cell_type": "code",
   "execution_count": 7,
   "metadata": {},
   "outputs": [
    {
     "name": "stdout",
     "output_type": "stream",
     "text": [
      "  team result  win_streak_id  loss_streak_id\n",
      "0    A      w              1               0\n",
      "1    A      w              2               0\n",
      "2    A      l              2               1\n",
      "3    A      w              3               1\n",
      "4    A      w              4               1\n",
      "5    B      w              1               0\n",
      "6    B      l              1               1\n",
      "7    B      l              1               2\n",
      "8    B      w              2               2\n"
     ]
    }
   ],
   "source": [
    "# Sample DataFrame\n",
    "data = {'team': ['A', 'A', 'A', 'A', 'A', 'B', 'B', 'B', 'B'],\n",
    "        'result': ['w', 'w', 'l', 'w', 'w', 'w', 'l', 'l', 'w']}\n",
    "\n",
    "df = pd.DataFrame(data)\n",
    "\n",
    "# Calculate win streak and loss streak\n",
    "df['win_streak_id'] = (df['result'] == 'w').astype(int).groupby(df['team']).cumsum()\n",
    "df['loss_streak_id'] = (df['result'] == 'l').astype(int).groupby(df['team']).cumsum()\n",
    "\n",
    "# # Calculate win streak and loss streak with resets\n",
    "# df['win_streak'] = df.apply(lambda row: row.groupby('team').cumsum() if row['result'] == 'w' else 0, axis=1)\n",
    "# df['loss_streak'] = df.apply(lambda row: row.groupby('team').cumsum() if row['result'] == 'l' else 0, axis=1)\n",
    "\n",
    "\n",
    "print(df)"
   ]
  },
  {
   "cell_type": "code",
   "execution_count": 6,
   "metadata": {},
   "outputs": [
    {
     "name": "stdout",
     "output_type": "stream",
     "text": [
      "  team result  win_streak  loss_streak\n",
      "0    A      w           1            0\n",
      "1    A      w           1            0\n",
      "2    A      l           0            1\n",
      "3    A      w           1            0\n",
      "4    A      w           1            0\n",
      "5    B      w           1            0\n",
      "6    B      l           0            1\n",
      "7    B      l           0            1\n",
      "8    B      w           1            0\n"
     ]
    }
   ],
   "source": [
    "# Sample DataFrame\n",
    "data = {'team': ['A', 'A', 'A', 'A', 'A', 'B', 'B', 'B', 'B'],\n",
    "        'result': ['w', 'w', 'l', 'w', 'w', 'w', 'l', 'l', 'w']}\n",
    "\n",
    "df = pd.DataFrame(data)\n",
    "\n",
    "# Calculate win streak and loss streak with resets\n",
    "def calculate_streaks(row):\n",
    "    if row['result'] == 'w':\n",
    "        row['win_streak'] = row['win_streak'] + 1\n",
    "        row['loss_streak'] = 0\n",
    "    elif row['result'] == 'l':\n",
    "        row['win_streak'] = 0\n",
    "        row['loss_streak'] = row['loss_streak'] + 1\n",
    "    return row\n",
    "\n",
    "df['win_streak'] = 0\n",
    "df['loss_streak'] = 0\n",
    "df = df.apply(calculate_streaks, axis=1)\n",
    "\n",
    "print(df)\n"
   ]
  },
  {
   "cell_type": "code",
   "execution_count": 12,
   "metadata": {},
   "outputs": [
    {
     "data": {
      "text/html": [
       "<div>\n",
       "<style scoped>\n",
       "    .dataframe tbody tr th:only-of-type {\n",
       "        vertical-align: middle;\n",
       "    }\n",
       "\n",
       "    .dataframe tbody tr th {\n",
       "        vertical-align: top;\n",
       "    }\n",
       "\n",
       "    .dataframe thead th {\n",
       "        text-align: right;\n",
       "    }\n",
       "</style>\n",
       "<table border=\"1\" class=\"dataframe\">\n",
       "  <thead>\n",
       "    <tr style=\"text-align: right;\">\n",
       "      <th></th>\n",
       "      <th>team</th>\n",
       "      <th>result</th>\n",
       "      <th>start_of_streak</th>\n",
       "      <th>streak_id</th>\n",
       "      <th>streak_counter</th>\n",
       "      <th>result2</th>\n",
       "    </tr>\n",
       "  </thead>\n",
       "  <tbody>\n",
       "    <tr>\n",
       "      <th>0</th>\n",
       "      <td>A</td>\n",
       "      <td>w</td>\n",
       "      <td>True</td>\n",
       "      <td>1</td>\n",
       "      <td>1</td>\n",
       "      <td>w</td>\n",
       "    </tr>\n",
       "    <tr>\n",
       "      <th>1</th>\n",
       "      <td>A</td>\n",
       "      <td>w</td>\n",
       "      <td>False</td>\n",
       "      <td>1</td>\n",
       "      <td>2</td>\n",
       "      <td>w</td>\n",
       "    </tr>\n",
       "    <tr>\n",
       "      <th>2</th>\n",
       "      <td>A</td>\n",
       "      <td>l</td>\n",
       "      <td>True</td>\n",
       "      <td>2</td>\n",
       "      <td>1</td>\n",
       "      <td>l</td>\n",
       "    </tr>\n",
       "    <tr>\n",
       "      <th>3</th>\n",
       "      <td>A</td>\n",
       "      <td>w</td>\n",
       "      <td>True</td>\n",
       "      <td>3</td>\n",
       "      <td>1</td>\n",
       "      <td>w</td>\n",
       "    </tr>\n",
       "    <tr>\n",
       "      <th>4</th>\n",
       "      <td>A</td>\n",
       "      <td>w</td>\n",
       "      <td>False</td>\n",
       "      <td>3</td>\n",
       "      <td>2</td>\n",
       "      <td>w</td>\n",
       "    </tr>\n",
       "    <tr>\n",
       "      <th>5</th>\n",
       "      <td>B</td>\n",
       "      <td>w</td>\n",
       "      <td>False</td>\n",
       "      <td>3</td>\n",
       "      <td>3</td>\n",
       "      <td>w</td>\n",
       "    </tr>\n",
       "    <tr>\n",
       "      <th>6</th>\n",
       "      <td>B</td>\n",
       "      <td>l</td>\n",
       "      <td>True</td>\n",
       "      <td>4</td>\n",
       "      <td>1</td>\n",
       "      <td>l</td>\n",
       "    </tr>\n",
       "    <tr>\n",
       "      <th>7</th>\n",
       "      <td>B</td>\n",
       "      <td>l</td>\n",
       "      <td>False</td>\n",
       "      <td>4</td>\n",
       "      <td>2</td>\n",
       "      <td>l</td>\n",
       "    </tr>\n",
       "    <tr>\n",
       "      <th>8</th>\n",
       "      <td>B</td>\n",
       "      <td>w</td>\n",
       "      <td>True</td>\n",
       "      <td>5</td>\n",
       "      <td>1</td>\n",
       "      <td>w</td>\n",
       "    </tr>\n",
       "  </tbody>\n",
       "</table>\n",
       "</div>"
      ],
      "text/plain": [
       "  team result  start_of_streak  streak_id  streak_counter result2\n",
       "0    A      w             True          1               1       w\n",
       "1    A      w            False          1               2       w\n",
       "2    A      l             True          2               1       l\n",
       "3    A      w             True          3               1       w\n",
       "4    A      w            False          3               2       w\n",
       "5    B      w            False          3               3       w\n",
       "6    B      l             True          4               1       l\n",
       "7    B      l            False          4               2       l\n",
       "8    B      w             True          5               1       w"
      ]
     },
     "execution_count": 12,
     "metadata": {},
     "output_type": "execute_result"
    }
   ],
   "source": [
    "# https://joshdevlin.com/blog/calculate-streaks-in-pandas/\n",
    "\n",
    "\n",
    "data = {'team': ['A', 'A', 'A', 'A', 'A', 'B', 'B', 'B', 'B'],\n",
    "        'result': ['w', 'w', 'l', 'w', 'w', 'w', 'l', 'l', 'w']}\n",
    "df = pd.DataFrame(data)\n",
    "\n",
    "df['start_of_streak'] = df.result.ne(df['result'].shift())\n",
    "df['streak_id'] = df['start_of_streak'].cumsum()\n",
    "\n",
    "df['streak_counter'] = df.groupby('streak_id').cumcount() + 1\n",
    "\n",
    "df['result2'] = df['result']\n",
    "\n",
    "\n",
    "\n",
    "\n",
    "df"
   ]
  }
 ],
 "metadata": {
  "kernelspec": {
   "display_name": "nba-fatigue",
   "language": "python",
   "name": "python3"
  },
  "language_info": {
   "codemirror_mode": {
    "name": "ipython",
    "version": 3
   },
   "file_extension": ".py",
   "mimetype": "text/x-python",
   "name": "python",
   "nbconvert_exporter": "python",
   "pygments_lexer": "ipython3",
   "version": "3.11.0"
  },
  "orig_nbformat": 4
 },
 "nbformat": 4,
 "nbformat_minor": 2
}
