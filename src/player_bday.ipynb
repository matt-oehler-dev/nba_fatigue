{
 "cells": [
  {
   "cell_type": "code",
   "execution_count": 2,
   "metadata": {},
   "outputs": [
    {
     "name": "stdout",
     "output_type": "stream",
     "text": [
      "Failed to retrieve data for LeBron James. Status code: 404\n"
     ]
    }
   ],
   "source": [
    "import requests\n",
    "from bs4 import BeautifulSoup\n",
    "\n",
    "# Replace 'PLAYER_NAME' with the name of the player you want to find the birthday for\n",
    "player_name = 'LeBron James'\n",
    "\n",
    "# Create the URL for the player's Basketball-Reference profile\n",
    "url = f'https://www.basketball-reference.com/players/{player_name.lower()}/{player_name.replace(\" \", \"\")}01.html'\n",
    "\n",
    "# Send an HTTP GET request to the URL\n",
    "response = requests.get(url)\n",
    "\n",
    "# Check if the request was successful (status code 200)\n",
    "if response.status_code == 200:\n",
    "    # Parse the HTML content of the page\n",
    "    soup = BeautifulSoup(response.content, 'html.parser')\n",
    "    \n",
    "    # Find the player's birthdate element on the page\n",
    "    birthdate_element = soup.find('span', {'itemprop': 'birthDate'})\n",
    "    \n",
    "    if birthdate_element:\n",
    "        # Extract the birthdate text\n",
    "        birthdate = birthdate_element.text\n",
    "        print(f\"{player_name}'s birthday is: {birthdate}\")\n",
    "    else:\n",
    "        print(f\"Could not find {player_name}'s birthday.\")\n",
    "else:\n",
    "    print(f\"Failed to retrieve data for {player_name}. Status code: {response.status_code}\")\n"
   ]
  }
 ],
 "metadata": {
  "kernelspec": {
   "display_name": "nba-fatigue",
   "language": "python",
   "name": "python3"
  },
  "language_info": {
   "codemirror_mode": {
    "name": "ipython",
    "version": 3
   },
   "file_extension": ".py",
   "mimetype": "text/x-python",
   "name": "python",
   "nbconvert_exporter": "python",
   "pygments_lexer": "ipython3",
   "version": "3.11.0"
  },
  "orig_nbformat": 4
 },
 "nbformat": 4,
 "nbformat_minor": 2
}
