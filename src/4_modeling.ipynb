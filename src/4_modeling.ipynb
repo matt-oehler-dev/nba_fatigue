{
 "cells": [
  {
   "cell_type": "code",
   "execution_count": null,
   "metadata": {},
   "outputs": [],
   "source": [
    "import numpy as np\n",
    "import pandas as pd\n",
    "\n",
    "pd.options.display.max_columns = None\n",
    "\n",
    "\n",
    "from sklearn.base import BaseEstimator, TransformerMixin\n",
    "from sklearn.preprocessing import OneHotEncoder\n",
    "\n",
    "from sklearn.pipeline import Pipeline\n",
    "from sklearn.ensemble import RandomForestClassifier, RandomForestRegressor\n",
    "from sklearn.linear_model import LinearRegression, LogisticRegression\n",
    "from sklearn.ensemble import GradientBoostingClassifier, GradientBoostingRegressor\n",
    "\n",
    "from sklearn.preprocessing import StandardScaler\n",
    "\n",
    "from sklearn.metrics import accuracy_score, roc_auc_score\n"
   ]
  },
  {
   "cell_type": "code",
   "execution_count": null,
   "metadata": {},
   "outputs": [],
   "source": [
    "class ColumnSelector(BaseEstimator, TransformerMixin):\n",
    "    \"\"\"Select only specified columns.\"\"\"\n",
    "\n",
    "    def __init__(self, columns=[]):\n",
    "        self.columns = columns\n",
    "\n",
    "    def fit(self, X, y=None):\n",
    "        return self\n",
    "\n",
    "    def transform(self, X):\n",
    "        if not self.columns:\n",
    "            return X\n",
    "        else:\n",
    "            return X[self.columns]"
   ]
  },
  {
   "cell_type": "code",
   "execution_count": null,
   "metadata": {},
   "outputs": [],
   "source": [
    "df = pd.read_csv(\"../data/game_data_2.csv\")\n",
    "\n",
    "# drop covid games\n",
    "df = df[df[\"is_covid_bubble\"] == 0].copy()\n",
    "print(df.shape[0])\n",
    "\n",
    "# train/test split\n",
    "# use 2021 and 2022 seasons as hold out\n",
    "train_raw = df[\n",
    "    ~df[\"season_start_year\"].isin(\n",
    "        [\n",
    "            2019,\n",
    "            2020,\n",
    "            2021,\n",
    "            2022,\n",
    "        ]\n",
    "    )\n",
    "]\n",
    "\n",
    "test_raw = df[\n",
    "    df['season_start_year'].isin([2019,])\n",
    "]\n",
    "\n",
    "print(train_raw.shape)\n",
    "print(test_raw.shape)"
   ]
  },
  {
   "cell_type": "code",
   "execution_count": null,
   "metadata": {},
   "outputs": [],
   "source": [
    "train_raw['season_start_year'].unique()"
   ]
  },
  {
   "cell_type": "code",
   "execution_count": null,
   "metadata": {},
   "outputs": [],
   "source": [
    "# test_raw.season_start_year.unique()"
   ]
  },
  {
   "cell_type": "code",
   "execution_count": null,
   "metadata": {},
   "outputs": [],
   "source": []
  },
  {
   "cell_type": "code",
   "execution_count": null,
   "metadata": {},
   "outputs": [],
   "source": [
    "df.columns"
   ]
  },
  {
   "cell_type": "code",
   "execution_count": null,
   "metadata": {},
   "outputs": [],
   "source": [
    "keeps = [\n",
    "    # \"Team_ID\",\n",
    "    # \"Game_ID\",\n",
    "    # \"GAME_DATE\",\n",
    "    # \"MATCHUP\",\n",
    "    # \"WL\",\n",
    "    # \"W\",\n",
    "    # \"L\",\n",
    "    # \"PTS\",\n",
    "    # \"team\",\n",
    "    # \"season_start_year\",\n",
    "    # \"opponent_abbreviation\",\n",
    "    # \"team_abbreviation\",\n",
    "    # \"is_covid_bubble\",\n",
    "    # \"city_team_key\",\n",
    "    # \"abbreviation\",\n",
    "    # \"Latitude\",\n",
    "    # \"Longitude\",\n",
    "    # \"Latitude_opponent\",\n",
    "    # \"Longitude_opponent\",\n",
    "    # \"PTS_opponent\",\n",
    "    # \"point_difference\",\n",
    "    # \"game_lat\",\n",
    "    # \"game_lon\",\n",
    "    # \"prev_game_lon\",\n",
    "    # \"prev_game_lat\",\n",
    "    # \"distance_from_previous_game\",\n",
    "    # \"start_of_streak\",\n",
    "    # \"streak_id\",\n",
    "    # \"streak_counter\",\n",
    "    # \"days_since_1_games_ago\",\n",
    "    # \"days_since_2_games_ago\",\n",
    "    # \"days_since_3_games_ago\",\n",
    "    # \"days_since_4_games_ago\",\n",
    "    # \"days_since_5_games_ago\",\n",
    "    # \"days_since_6_games_ago\",\n",
    "    # \"days_since_7_games_ago\",\n",
    "    # -------------------------\n",
    "    # \"is_last_game_home\",\n",
    "    \"incoming_away_game_streak\",\n",
    "    \"is_home_game\",\n",
    "    \"num_games_last_4_days\",\n",
    "    \"num_games_last_7_days\",\n",
    "    \"cumulative_distance\",\n",
    "    \"incoming_away_game_streak_opponent\",\n",
    "    \"days_since_1_games_ago_opponent\",\n",
    "    \"num_games_last_4_days_opponent\",\n",
    "    \"num_games_last_7_days_opponent\",\n",
    "    \"cumulative_distance_opponent\",\n",
    "    # \"days_of_rest_difference\",\n",
    "    # \"games_last_7_diff\",\n",
    "    # \"distance_difference\",\n",
    "    # -------------------------\n",
    "    # todo ---------------\n",
    "    # time zone and hours gained/lost\n",
    "    # time diff with hour\n",
    "    # num away games in last 7 and in last 5\n",
    "    #  ---------------\n",
    "    # \"target\",\n",
    "]\n",
    "\n",
    "id_cols = [\n",
    "    \"Team_ID\",\n",
    "    \"Game_ID\",\n",
    "    \"GAME_DATE\",\n",
    "    \"MATCHUP\",\n",
    "    \"WL\",\n",
    "    \"W\",\n",
    "    \"L\",\n",
    "    \"PTS\",\n",
    "    \"team\",\n",
    "    \"season_start_year\",\n",
    "    \"opponent_abbreviation\",\n",
    "    \"team_abbreviation\",\n",
    "    \"target\",\n",
    "]"
   ]
  },
  {
   "cell_type": "code",
   "execution_count": null,
   "metadata": {},
   "outputs": [],
   "source": [
    "test_qlik = df[\n",
    "    df[\"season_start_year\"].isin(\n",
    "        [\n",
    "            2019,\n",
    "            2020,\n",
    "            2021,\n",
    "            2022,\n",
    "        ]\n",
    "    )\n",
    "][id_cols + keeps].copy()\n",
    "print(test_qlik.shape)\n",
    "test_qlik.to_csv(\"../data/qlik_test.csv\", index=False)"
   ]
  },
  {
   "cell_type": "code",
   "execution_count": null,
   "metadata": {},
   "outputs": [],
   "source": [
    "temp_df = df[\n",
    "    ~df[\"season_start_year\"].isin(\n",
    "        [\n",
    "            2019,\n",
    "            2020,\n",
    "            2021,\n",
    "            2022,\n",
    "        ]\n",
    "    )\n",
    "][id_cols + keeps].copy()\n",
    "temp_df.to_csv(\"../data/qlik-test-1.csv\", index=False)\n",
    "print(temp_df.shape)\n",
    "temp_df"
   ]
  },
  {
   "cell_type": "code",
   "execution_count": null,
   "metadata": {},
   "outputs": [],
   "source": [
    "\n",
    "numeric_cols = temp_df[keeps].select_dtypes(include=['number']).columns.tolist()\n",
    "categorical_cols = temp_df[keeps].select_dtypes(include=['object', 'category']).columns.tolist()\n",
    "print(f\"numeric: {numeric_cols}\")\n",
    "print(f\"categorical: {categorical_cols}\")"
   ]
  },
  {
   "cell_type": "code",
   "execution_count": null,
   "metadata": {},
   "outputs": [],
   "source": [
    "basic_pipe = Pipeline(\n",
    "    [\n",
    "        (\"column_selector\", ColumnSelector(columns=keeps)),\n",
    "        (\"scalar\", StandardScaler()),\n",
    "        # (\"model\", GradientBoostingClassifier()),\n",
    "    ]\n",
    ")"
   ]
  },
  {
   "cell_type": "code",
   "execution_count": null,
   "metadata": {},
   "outputs": [],
   "source": [
    "train = basic_pipe.fit_transform(train_raw, train_raw['target'])\n",
    "print(train.shape)\n",
    "\n",
    "test = basic_pipe.transform(test_raw)\n",
    "print(test.shape)"
   ]
  },
  {
   "cell_type": "code",
   "execution_count": null,
   "metadata": {},
   "outputs": [],
   "source": [
    "# xgboost\n",
    "xgb = GradientBoostingClassifier()\n",
    "xgb.fit(train, train_raw['target'])\n",
    "\n",
    "xgb_probs = xgb.predict_proba(test)\n",
    "\n",
    "\n",
    "xgb_preds = xgb.predict(test)\n",
    "accuracy_score(test_raw['target'], xgb_preds)"
   ]
  },
  {
   "cell_type": "code",
   "execution_count": null,
   "metadata": {},
   "outputs": [],
   "source": [
    "lr = LogisticRegression()\n",
    "lr.fit(train, train_raw['target'])\n",
    "\n",
    "lr_probs = lr.predict_proba(test)\n",
    "\n",
    "lr_preds = lr.predict(test)\n",
    "print(accuracy_score(test_raw['target'], lr_preds))\n",
    "print(roc_auc_score(test_raw['target'], lr_preds))"
   ]
  },
  {
   "cell_type": "code",
   "execution_count": null,
   "metadata": {},
   "outputs": [],
   "source": [
    "lr_probs[:, 1]"
   ]
  },
  {
   "cell_type": "code",
   "execution_count": null,
   "metadata": {},
   "outputs": [],
   "source": [
    "pred_df = pd.DataFrame({\n",
    "    \"truth\": test_raw['target'].tolist(),\n",
    "    \"lr_probs\": lr_probs[:, 1],\n",
    "    \"lr_preds\": lr_preds,\n",
    "    \"xgb_probs\": xgb_probs[:, 1],\n",
    "    \"xgb_preds\": xgb_preds,\n",
    "})\n",
    "pred_df"
   ]
  },
  {
   "cell_type": "code",
   "execution_count": null,
   "metadata": {},
   "outputs": [],
   "source": [
    "pred_df.describe()"
   ]
  },
  {
   "cell_type": "code",
   "execution_count": null,
   "metadata": {},
   "outputs": [],
   "source": [
    "pred_df['is_alert'] = np.where(pred_df['xgb_probs'] >= 0.5, 1, 0)\n",
    "pred_df['is_alert_right'] = np.where(pred_df['is_alert'] == pred_df['truth'], 1, 0)\n",
    "\n",
    "print(pred_df['is_alert'].mean())\n",
    "print(pred_df['is_alert_right'].mean())\n",
    "\n",
    "pred_df"
   ]
  }
 ],
 "metadata": {
  "kernelspec": {
   "display_name": "nba-fatigue",
   "language": "python",
   "name": "python3"
  },
  "language_info": {
   "codemirror_mode": {
    "name": "ipython",
    "version": 3
   },
   "file_extension": ".py",
   "mimetype": "text/x-python",
   "name": "python",
   "nbconvert_exporter": "python",
   "pygments_lexer": "ipython3",
   "version": "3.11.0"
  },
  "orig_nbformat": 4
 },
 "nbformat": 4,
 "nbformat_minor": 2
}
