{
 "cells": [
  {
   "cell_type": "code",
   "execution_count": 1,
   "metadata": {},
   "outputs": [],
   "source": [
    "import pandas as pd\n",
    "pd.options.display.max_columns = None\n",
    "\n",
    "import requests"
   ]
  },
  {
   "cell_type": "code",
   "execution_count": 2,
   "metadata": {},
   "outputs": [
    {
     "data": {
      "text/html": [
       "<div>\n",
       "<style scoped>\n",
       "    .dataframe tbody tr th:only-of-type {\n",
       "        vertical-align: middle;\n",
       "    }\n",
       "\n",
       "    .dataframe tbody tr th {\n",
       "        vertical-align: top;\n",
       "    }\n",
       "\n",
       "    .dataframe thead th {\n",
       "        text-align: right;\n",
       "    }\n",
       "</style>\n",
       "<table border=\"1\" class=\"dataframe\">\n",
       "  <thead>\n",
       "    <tr style=\"text-align: right;\">\n",
       "      <th></th>\n",
       "      <th>variable</th>\n",
       "      <th>value</th>\n",
       "    </tr>\n",
       "  </thead>\n",
       "  <tbody>\n",
       "    <tr>\n",
       "      <th>0</th>\n",
       "      <td>Atlantic</td>\n",
       "      <td>Boston Celtics</td>\n",
       "    </tr>\n",
       "    <tr>\n",
       "      <th>1</th>\n",
       "      <td>Atlantic</td>\n",
       "      <td>Brooklyn Nets</td>\n",
       "    </tr>\n",
       "    <tr>\n",
       "      <th>2</th>\n",
       "      <td>Atlantic</td>\n",
       "      <td>New York Knicks</td>\n",
       "    </tr>\n",
       "    <tr>\n",
       "      <th>3</th>\n",
       "      <td>Atlantic</td>\n",
       "      <td>Philadelphia 76ers</td>\n",
       "    </tr>\n",
       "    <tr>\n",
       "      <th>4</th>\n",
       "      <td>Atlantic</td>\n",
       "      <td>Toronto Raptors</td>\n",
       "    </tr>\n",
       "  </tbody>\n",
       "</table>\n",
       "</div>"
      ],
      "text/plain": [
       "   variable               value\n",
       "0  Atlantic      Boston Celtics\n",
       "1  Atlantic       Brooklyn Nets\n",
       "2  Atlantic     New York Knicks\n",
       "3  Atlantic  Philadelphia 76ers\n",
       "4  Atlantic     Toronto Raptors"
      ]
     },
     "execution_count": 2,
     "metadata": {},
     "output_type": "execute_result"
    }
   ],
   "source": [
    "\n",
    "base_url = f\"https://www.gamedaycalendar.com/schedules/nba/{2023}\"\n",
    "\n",
    "teams = pd.read_html(base_url)\n",
    "teams_df = pd.concat([division.melt() for division in teams])\n",
    "teams_df.head()\n"
   ]
  },
  {
   "cell_type": "code",
   "execution_count": 3,
   "metadata": {},
   "outputs": [
    {
     "name": "stdout",
     "output_type": "stream",
     "text": [
      "[2014, 2015, 2016, 2017, 2018, 2019, 2020, 2021, 2022, 2023]\n",
      "30\n"
     ]
    },
    {
     "data": {
      "text/html": [
       "<div>\n",
       "<style scoped>\n",
       "    .dataframe tbody tr th:only-of-type {\n",
       "        vertical-align: middle;\n",
       "    }\n",
       "\n",
       "    .dataframe tbody tr th {\n",
       "        vertical-align: top;\n",
       "    }\n",
       "\n",
       "    .dataframe thead th {\n",
       "        text-align: right;\n",
       "    }\n",
       "</style>\n",
       "<table border=\"1\" class=\"dataframe\">\n",
       "  <thead>\n",
       "    <tr style=\"text-align: right;\">\n",
       "      <th></th>\n",
       "      <th>variable</th>\n",
       "      <th>value</th>\n",
       "      <th>season</th>\n",
       "    </tr>\n",
       "  </thead>\n",
       "  <tbody>\n",
       "    <tr>\n",
       "      <th>0</th>\n",
       "      <td>Atlantic</td>\n",
       "      <td>Boston Celtics</td>\n",
       "      <td>2014</td>\n",
       "    </tr>\n",
       "    <tr>\n",
       "      <th>1</th>\n",
       "      <td>Atlantic</td>\n",
       "      <td>Brooklyn Nets</td>\n",
       "      <td>2014</td>\n",
       "    </tr>\n",
       "  </tbody>\n",
       "</table>\n",
       "</div>"
      ],
      "text/plain": [
       "   variable           value  season\n",
       "0  Atlantic  Boston Celtics    2014\n",
       "1  Atlantic   Brooklyn Nets    2014"
      ]
     },
     "execution_count": 3,
     "metadata": {},
     "output_type": "execute_result"
    }
   ],
   "source": [
    "seasons = list(range(2014, 2024))\n",
    "print(seasons)\n",
    "data_frames = []\n",
    "for season in seasons:\n",
    "    # print(season)\n",
    "    teams = pd.read_html(base_url)\n",
    "    teams_df = pd.concat([division.melt() for division in teams])\n",
    "    teams_df['season'] = season\n",
    "    data_frames.append(teams_df)\n",
    "# data_frames = [x for x in data_frames if str(type(x)).lower == \"\"]\n",
    "division_df = pd.concat(data_frames)\n",
    "print(division_df['value'].nunique())\n",
    "print(division_df.shape)\n",
    "division_df.head(2)"
   ]
  },
  {
   "cell_type": "code",
   "execution_count": 4,
   "metadata": {},
   "outputs": [
    {
     "data": {
      "text/plain": [
       "['atl', 'bos', 'cle', 'nop', 'chi']"
      ]
     },
     "execution_count": 4,
     "metadata": {},
     "output_type": "execute_result"
    }
   ],
   "source": [
    "# load team data to get the 3 letter abbreviations for each team\n",
    "team_info_df = pd.read_csv(\"../data/team_info.csv\")\n",
    "abbreviations = team_info_df['abbreviation'].str.lower().tolist()\n",
    "abbreviations[:5]"
   ]
  },
  {
   "cell_type": "code",
   "execution_count": 5,
   "metadata": {},
   "outputs": [
    {
     "name": "stdout",
     "output_type": "stream",
     "text": [
      "2014\n",
      "2015\n",
      "2016\n",
      "2017\n",
      "2018\n",
      "2019\n",
      "2020\n",
      "2021\n",
      "2022\n",
      "2023\n",
      "Done\n"
     ]
    }
   ],
   "source": [
    "# season 2023\n",
    "url  = \"https://www.gamedaycalendar.com/schedules/nba/\"\n",
    "# year = 2022\n",
    "months = list(range(12))\n",
    "dfs = []\n",
    "for season in seasons:\n",
    "    print(season)\n",
    "    for team_abbr in abbreviations[:1]:\n",
    "        month_dfs = []\n",
    "        for month in months:\n",
    "            page_data = pd.read_html(f\"https://www.gamedaycalendar.com/schedules/nba/{team_abbr}/{season}/{month}\")\n",
    "            if len(page_data) >= 2:\n",
    "                month_dfs.append(page_data[1])\n",
    "        \n",
    "        dfs.append(pd.concat(month_dfs))\n",
    "\n",
    "print(\"Done\")\n",
    "# dfs"
   ]
  },
  {
   "cell_type": "code",
   "execution_count": 6,
   "metadata": {},
   "outputs": [
    {
     "name": "stdout",
     "output_type": "stream",
     "text": [
      "(853, 3)\n"
     ]
    },
    {
     "data": {
      "text/html": [
       "<div>\n",
       "<style scoped>\n",
       "    .dataframe tbody tr th:only-of-type {\n",
       "        vertical-align: middle;\n",
       "    }\n",
       "\n",
       "    .dataframe tbody tr th {\n",
       "        vertical-align: top;\n",
       "    }\n",
       "\n",
       "    .dataframe thead th {\n",
       "        text-align: right;\n",
       "    }\n",
       "</style>\n",
       "<table border=\"1\" class=\"dataframe\">\n",
       "  <thead>\n",
       "    <tr style=\"text-align: right;\">\n",
       "      <th></th>\n",
       "      <th>Date</th>\n",
       "      <th>Time</th>\n",
       "      <th>Opponent</th>\n",
       "    </tr>\n",
       "  </thead>\n",
       "  <tbody>\n",
       "    <tr>\n",
       "      <th>0</th>\n",
       "      <td>Regular Season</td>\n",
       "      <td>Regular Season</td>\n",
       "      <td>Regular Season</td>\n",
       "    </tr>\n",
       "    <tr>\n",
       "      <th>1</th>\n",
       "      <td>Fri, Jan 2</td>\n",
       "      <td>9:00 PM</td>\n",
       "      <td>@ Utah Jazz</td>\n",
       "    </tr>\n",
       "    <tr>\n",
       "      <th>2</th>\n",
       "      <td>Sat, Jan 3</td>\n",
       "      <td>10:00 PM</td>\n",
       "      <td>@ Portland Trail Blazers</td>\n",
       "    </tr>\n",
       "    <tr>\n",
       "      <th>3</th>\n",
       "      <td>Mon, Jan 5</td>\n",
       "      <td>10:30 PM</td>\n",
       "      <td>@ Los Angeles Clippers</td>\n",
       "    </tr>\n",
       "    <tr>\n",
       "      <th>4</th>\n",
       "      <td>Wed, Jan 7</td>\n",
       "      <td>7:30 PM</td>\n",
       "      <td>vs Memphis Grizzlies</td>\n",
       "    </tr>\n",
       "    <tr>\n",
       "      <th>...</th>\n",
       "      <td>...</td>\n",
       "      <td>...</td>\n",
       "      <td>...</td>\n",
       "    </tr>\n",
       "    <tr>\n",
       "      <th>7</th>\n",
       "      <td>Fri, Dec 22</td>\n",
       "      <td>7:00 PM</td>\n",
       "      <td>@ Miami Heat</td>\n",
       "    </tr>\n",
       "    <tr>\n",
       "      <th>8</th>\n",
       "      <td>Sat, Dec 23</td>\n",
       "      <td>6:30 PM</td>\n",
       "      <td>vs Memphis Grizzlies</td>\n",
       "    </tr>\n",
       "    <tr>\n",
       "      <th>9</th>\n",
       "      <td>Tue, Dec 26</td>\n",
       "      <td>7:00 PM</td>\n",
       "      <td>@ Chicago Bulls</td>\n",
       "    </tr>\n",
       "    <tr>\n",
       "      <th>10</th>\n",
       "      <td>Fri, Dec 29</td>\n",
       "      <td>6:30 PM</td>\n",
       "      <td>vs Sacramento Kings</td>\n",
       "    </tr>\n",
       "    <tr>\n",
       "      <th>11</th>\n",
       "      <td>Sun, Dec 31</td>\n",
       "      <td>2:00 PM</td>\n",
       "      <td>@ Washington Wizards</td>\n",
       "    </tr>\n",
       "  </tbody>\n",
       "</table>\n",
       "<p>853 rows × 3 columns</p>\n",
       "</div>"
      ],
      "text/plain": [
       "              Date            Time                  Opponent\n",
       "0   Regular Season  Regular Season            Regular Season\n",
       "1       Fri, Jan 2         9:00 PM               @ Utah Jazz\n",
       "2       Sat, Jan 3        10:00 PM  @ Portland Trail Blazers\n",
       "3       Mon, Jan 5        10:30 PM    @ Los Angeles Clippers\n",
       "4       Wed, Jan 7         7:30 PM      vs Memphis Grizzlies\n",
       "..             ...             ...                       ...\n",
       "7      Fri, Dec 22         7:00 PM              @ Miami Heat\n",
       "8      Sat, Dec 23         6:30 PM      vs Memphis Grizzlies\n",
       "9      Tue, Dec 26         7:00 PM           @ Chicago Bulls\n",
       "10     Fri, Dec 29         6:30 PM       vs Sacramento Kings\n",
       "11     Sun, Dec 31         2:00 PM      @ Washington Wizards\n",
       "\n",
       "[853 rows x 3 columns]"
      ]
     },
     "execution_count": 6,
     "metadata": {},
     "output_type": "execute_result"
    }
   ],
   "source": [
    "a = pd.concat(dfs)\n",
    "print(a.shape)\n",
    "a"
   ]
  },
  {
   "cell_type": "code",
   "execution_count": 7,
   "metadata": {},
   "outputs": [],
   "source": [
    "# pd.read_html(\"https://www.gamedaycalendar.com/schedules/nba/bos/2014/7\")#[1]\n"
   ]
  },
  {
   "cell_type": "code",
   "execution_count": null,
   "metadata": {},
   "outputs": [],
   "source": []
  }
 ],
 "metadata": {
  "kernelspec": {
   "display_name": "nba-fatigue",
   "language": "python",
   "name": "python3"
  },
  "language_info": {
   "codemirror_mode": {
    "name": "ipython",
    "version": 3
   },
   "file_extension": ".py",
   "mimetype": "text/x-python",
   "name": "python",
   "nbconvert_exporter": "python",
   "pygments_lexer": "ipython3",
   "version": "3.11.0"
  },
  "orig_nbformat": 4
 },
 "nbformat": 4,
 "nbformat_minor": 2
}
