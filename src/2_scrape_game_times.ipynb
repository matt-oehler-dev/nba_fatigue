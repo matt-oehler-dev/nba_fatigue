{
 "cells": [
  {
   "cell_type": "code",
   "execution_count": null,
   "metadata": {},
   "outputs": [],
   "source": [
    "import pandas as pd\n",
    "pd.options.display.max_columns = None\n",
    "\n",
    "import numpy as np"
   ]
  },
  {
   "cell_type": "code",
   "execution_count": null,
   "metadata": {},
   "outputs": [],
   "source": [
    "\n",
    "base_url = f\"https://www.gamedaycalendar.com/schedules/nba/{2023}\"\n",
    "\n",
    "teams = pd.read_html(base_url)\n",
    "teams_df = pd.concat([division.melt() for division in teams])\n",
    "teams_df.head()\n"
   ]
  },
  {
   "cell_type": "code",
   "execution_count": null,
   "metadata": {},
   "outputs": [],
   "source": [
    "seasons = list(range(2014, 2024))\n",
    "print(seasons)\n",
    "data_frames = []\n",
    "for season in seasons:\n",
    "    # print(season)\n",
    "    teams = pd.read_html(base_url)\n",
    "    teams_df = pd.concat([division.melt() for division in teams])\n",
    "    teams_df['season'] = season\n",
    "    data_frames.append(teams_df)\n",
    "# data_frames = [x for x in data_frames if str(type(x)).lower == \"\"]\n",
    "division_df = pd.concat(data_frames)\n",
    "print(division_df['value'].nunique())\n",
    "print(division_df.shape)\n",
    "division_df.head(2)"
   ]
  },
  {
   "cell_type": "code",
   "execution_count": null,
   "metadata": {},
   "outputs": [],
   "source": [
    "# load team data to get the 3 letter abbreviations for each team\n",
    "team_info_df = pd.read_csv(\"../data/team_info.csv\")\n",
    "abbreviations = team_info_df['abbreviation'].str.lower().tolist()\n",
    "abbreviations[:5]"
   ]
  },
  {
   "cell_type": "code",
   "execution_count": null,
   "metadata": {},
   "outputs": [],
   "source": [
    "# season 2023\n",
    "url = \"https://www.gamedaycalendar.com/schedules/nba/\"\n",
    "months = list(range(12))\n",
    "dfs = []\n",
    "errors = []\n",
    "fixes = {'bkn':\"brk\", 'phx':\"pho\", 'sas':\"san\"}\n",
    "\n",
    "\n",
    "for season in seasons:\n",
    "    print(season)\n",
    "    for team_abbr in abbreviations:\n",
    "        team_abbr_mod = team_abbr\n",
    "        if team_abbr_mod in ['bkn', 'phx', 'sas']:\n",
    "            team_abbr_mod = fixes[team_abbr_mod]\n",
    "        month_dfs = []\n",
    "        for month in months:\n",
    "            try:\n",
    "                page_data = pd.read_html(\n",
    "                    f\"https://www.gamedaycalendar.com/schedules/nba/{team_abbr_mod}/{season}/{month}\"\n",
    "                )\n",
    "            except:\n",
    "                print(f\"Error: {season}, {team_abbr}, {month}\")\n",
    "                errors.append(team_abbr)\n",
    "                continue\n",
    "            if len(page_data) >= 2:\n",
    "                temp_df = page_data[1]\n",
    "                temp_df[\"team_abbr\"] = team_abbr\n",
    "                temp_df['season'] = season\n",
    "                month_dfs.append(temp_df)\n",
    "        if len(month_dfs) > 0:\n",
    "            dfs.append(pd.concat(month_dfs))\n",
    "\n",
    "print(\"Done\")\n",
    "# print(set(errors))\n",
    "# dfs"
   ]
  },
  {
   "cell_type": "code",
   "execution_count": null,
   "metadata": {},
   "outputs": [],
   "source": [
    "game_time_df = pd.concat(dfs)\n",
    "print(game_time_df.shape)\n",
    "game_time_df.sample(5)"
   ]
  },
  {
   "cell_type": "code",
   "execution_count": null,
   "metadata": {},
   "outputs": [],
   "source": [
    "# do some cleaning\n",
    "\n",
    "# drop rows that say regular season\n",
    "game_time_df = game_time_df[\n",
    "    game_time_df['Date'] != \"Regular Season\"\n",
    "].copy()\n",
    "\n",
    "# split out the date\n",
    "game_time_df[[\"day_of_week\", \"month\", \"day_of_month\"]] = game_time_df['Date'].str.replace(\",\", \"\").str.split(\" \", expand=True)\n",
    "\n",
    "\n",
    "# get home vs away\n",
    "game_time_df[\"is_home_game\"] = np.where(game_time_df['Opponent'].str.contains(\"@\"), 0, 1)\n",
    "\n",
    "# clean up opponent\n",
    "# game_time_df['Opponent'] = game_time_df['Opponent'].str.split(\" \")\n",
    "\n",
    "# game_time_df['time_time'] = pd.to_datetime(game_time_df['Time'])\n",
    "\n",
    "\n",
    "\n",
    "print(game_time_df.shape)\n",
    "game_time_df.head()"
   ]
  },
  {
   "cell_type": "code",
   "execution_count": null,
   "metadata": {},
   "outputs": [],
   "source": [
    "# game_time_df['Opponent'].unique()"
   ]
  },
  {
   "cell_type": "code",
   "execution_count": null,
   "metadata": {},
   "outputs": [],
   "source": [
    "# pd.read_html(\"https://www.gamedaycalendar.com/schedules/nba/bos/2014/7\")#[1]\n"
   ]
  },
  {
   "cell_type": "code",
   "execution_count": null,
   "metadata": {},
   "outputs": [],
   "source": [
    "\"vs Altanta Hawks\".split(\" \", 1)"
   ]
  }
 ],
 "metadata": {
  "kernelspec": {
   "display_name": "nba-fatigue",
   "language": "python",
   "name": "python3"
  },
  "language_info": {
   "codemirror_mode": {
    "name": "ipython",
    "version": 3
   },
   "file_extension": ".py",
   "mimetype": "text/x-python",
   "name": "python",
   "nbconvert_exporter": "python",
   "pygments_lexer": "ipython3",
   "version": "3.11.0"
  },
  "orig_nbformat": 4
 },
 "nbformat": 4,
 "nbformat_minor": 2
}
