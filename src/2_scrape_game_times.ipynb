{
 "cells": [
  {
   "cell_type": "code",
   "execution_count": 17,
   "metadata": {},
   "outputs": [],
   "source": [
    "import pandas as pd\n",
    "pd.options.display.max_columns = None\n",
    "\n",
    "import numpy as np"
   ]
  },
  {
   "cell_type": "code",
   "execution_count": 2,
   "metadata": {},
   "outputs": [
    {
     "data": {
      "text/html": [
       "<div>\n",
       "<style scoped>\n",
       "    .dataframe tbody tr th:only-of-type {\n",
       "        vertical-align: middle;\n",
       "    }\n",
       "\n",
       "    .dataframe tbody tr th {\n",
       "        vertical-align: top;\n",
       "    }\n",
       "\n",
       "    .dataframe thead th {\n",
       "        text-align: right;\n",
       "    }\n",
       "</style>\n",
       "<table border=\"1\" class=\"dataframe\">\n",
       "  <thead>\n",
       "    <tr style=\"text-align: right;\">\n",
       "      <th></th>\n",
       "      <th>variable</th>\n",
       "      <th>value</th>\n",
       "    </tr>\n",
       "  </thead>\n",
       "  <tbody>\n",
       "    <tr>\n",
       "      <th>0</th>\n",
       "      <td>Atlantic</td>\n",
       "      <td>Boston Celtics</td>\n",
       "    </tr>\n",
       "    <tr>\n",
       "      <th>1</th>\n",
       "      <td>Atlantic</td>\n",
       "      <td>Brooklyn Nets</td>\n",
       "    </tr>\n",
       "    <tr>\n",
       "      <th>2</th>\n",
       "      <td>Atlantic</td>\n",
       "      <td>New York Knicks</td>\n",
       "    </tr>\n",
       "    <tr>\n",
       "      <th>3</th>\n",
       "      <td>Atlantic</td>\n",
       "      <td>Philadelphia 76ers</td>\n",
       "    </tr>\n",
       "    <tr>\n",
       "      <th>4</th>\n",
       "      <td>Atlantic</td>\n",
       "      <td>Toronto Raptors</td>\n",
       "    </tr>\n",
       "  </tbody>\n",
       "</table>\n",
       "</div>"
      ],
      "text/plain": [
       "   variable               value\n",
       "0  Atlantic      Boston Celtics\n",
       "1  Atlantic       Brooklyn Nets\n",
       "2  Atlantic     New York Knicks\n",
       "3  Atlantic  Philadelphia 76ers\n",
       "4  Atlantic     Toronto Raptors"
      ]
     },
     "execution_count": 2,
     "metadata": {},
     "output_type": "execute_result"
    }
   ],
   "source": [
    "\n",
    "base_url = f\"https://www.gamedaycalendar.com/schedules/nba/{2023}\"\n",
    "\n",
    "teams = pd.read_html(base_url)\n",
    "teams_df = pd.concat([division.melt() for division in teams])\n",
    "teams_df.head()\n"
   ]
  },
  {
   "cell_type": "code",
   "execution_count": 3,
   "metadata": {},
   "outputs": [
    {
     "name": "stdout",
     "output_type": "stream",
     "text": [
      "[2014, 2015, 2016, 2017, 2018, 2019, 2020, 2021, 2022, 2023]\n",
      "30\n",
      "(300, 3)\n"
     ]
    },
    {
     "data": {
      "text/html": [
       "<div>\n",
       "<style scoped>\n",
       "    .dataframe tbody tr th:only-of-type {\n",
       "        vertical-align: middle;\n",
       "    }\n",
       "\n",
       "    .dataframe tbody tr th {\n",
       "        vertical-align: top;\n",
       "    }\n",
       "\n",
       "    .dataframe thead th {\n",
       "        text-align: right;\n",
       "    }\n",
       "</style>\n",
       "<table border=\"1\" class=\"dataframe\">\n",
       "  <thead>\n",
       "    <tr style=\"text-align: right;\">\n",
       "      <th></th>\n",
       "      <th>variable</th>\n",
       "      <th>value</th>\n",
       "      <th>season</th>\n",
       "    </tr>\n",
       "  </thead>\n",
       "  <tbody>\n",
       "    <tr>\n",
       "      <th>0</th>\n",
       "      <td>Atlantic</td>\n",
       "      <td>Boston Celtics</td>\n",
       "      <td>2014</td>\n",
       "    </tr>\n",
       "    <tr>\n",
       "      <th>1</th>\n",
       "      <td>Atlantic</td>\n",
       "      <td>Brooklyn Nets</td>\n",
       "      <td>2014</td>\n",
       "    </tr>\n",
       "  </tbody>\n",
       "</table>\n",
       "</div>"
      ],
      "text/plain": [
       "   variable           value  season\n",
       "0  Atlantic  Boston Celtics    2014\n",
       "1  Atlantic   Brooklyn Nets    2014"
      ]
     },
     "execution_count": 3,
     "metadata": {},
     "output_type": "execute_result"
    }
   ],
   "source": [
    "seasons = list(range(2014, 2024))\n",
    "print(seasons)\n",
    "data_frames = []\n",
    "for season in seasons:\n",
    "    # print(season)\n",
    "    teams = pd.read_html(base_url)\n",
    "    teams_df = pd.concat([division.melt() for division in teams])\n",
    "    teams_df['season'] = season\n",
    "    data_frames.append(teams_df)\n",
    "# data_frames = [x for x in data_frames if str(type(x)).lower == \"\"]\n",
    "division_df = pd.concat(data_frames)\n",
    "print(division_df['value'].nunique())\n",
    "print(division_df.shape)\n",
    "division_df.head(2)"
   ]
  },
  {
   "cell_type": "code",
   "execution_count": 4,
   "metadata": {},
   "outputs": [
    {
     "data": {
      "text/plain": [
       "['atl', 'bos', 'cle', 'nop', 'chi']"
      ]
     },
     "execution_count": 4,
     "metadata": {},
     "output_type": "execute_result"
    }
   ],
   "source": [
    "# load team data to get the 3 letter abbreviations for each team\n",
    "team_info_df = pd.read_csv(\"../data/team_info.csv\")\n",
    "abbreviations = team_info_df['abbreviation'].str.lower().tolist()\n",
    "abbreviations[:5]"
   ]
  },
  {
   "cell_type": "code",
   "execution_count": 5,
   "metadata": {},
   "outputs": [
    {
     "name": "stdout",
     "output_type": "stream",
     "text": [
      "2014\n",
      "2015\n",
      "2016\n",
      "2017\n",
      "2018\n",
      "2019\n",
      "2020\n",
      "2021\n",
      "2022\n",
      "2023\n",
      "Done\n"
     ]
    }
   ],
   "source": [
    "# season 2023\n",
    "url = \"https://www.gamedaycalendar.com/schedules/nba/\"\n",
    "months = list(range(12))\n",
    "dfs = []\n",
    "errors = []\n",
    "fixes = {'bkn':\"brk\", 'phx':\"pho\", 'sas':\"san\"}\n",
    "\n",
    "\n",
    "for season in seasons:\n",
    "    print(season)\n",
    "    for team_abbr in abbreviations:\n",
    "        team_abbr_mod = team_abbr\n",
    "        if team_abbr_mod in ['bkn', 'phx', 'sas']:\n",
    "            team_abbr_mod = fixes[team_abbr_mod]\n",
    "        month_dfs = []\n",
    "        for month in months:\n",
    "            try:\n",
    "                page_data = pd.read_html(\n",
    "                    f\"https://www.gamedaycalendar.com/schedules/nba/{team_abbr_mod}/{season}/{month}\"\n",
    "                )\n",
    "            except:\n",
    "                print(f\"Error: {season}, {team_abbr}, {month}\")\n",
    "                errors.append(team_abbr)\n",
    "                continue\n",
    "            if len(page_data) >= 2:\n",
    "                temp_df = page_data[1]\n",
    "                temp_df[\"team_abbr\"] = team_abbr\n",
    "                temp_df['season'] = season\n",
    "                month_dfs.append(temp_df)\n",
    "        if len(month_dfs) > 0:\n",
    "            dfs.append(pd.concat(month_dfs))\n",
    "\n",
    "print(\"Done\")\n",
    "# print(set(errors))\n",
    "# dfs"
   ]
  },
  {
   "cell_type": "code",
   "execution_count": 30,
   "metadata": {},
   "outputs": [
    {
     "name": "stdout",
     "output_type": "stream",
     "text": [
      "(25360, 5)\n"
     ]
    },
    {
     "data": {
      "text/html": [
       "<div>\n",
       "<style scoped>\n",
       "    .dataframe tbody tr th:only-of-type {\n",
       "        vertical-align: middle;\n",
       "    }\n",
       "\n",
       "    .dataframe tbody tr th {\n",
       "        vertical-align: top;\n",
       "    }\n",
       "\n",
       "    .dataframe thead th {\n",
       "        text-align: right;\n",
       "    }\n",
       "</style>\n",
       "<table border=\"1\" class=\"dataframe\">\n",
       "  <thead>\n",
       "    <tr style=\"text-align: right;\">\n",
       "      <th></th>\n",
       "      <th>Date</th>\n",
       "      <th>Time</th>\n",
       "      <th>Opponent</th>\n",
       "      <th>team_abbr</th>\n",
       "      <th>season</th>\n",
       "    </tr>\n",
       "  </thead>\n",
       "  <tbody>\n",
       "    <tr>\n",
       "      <th>11</th>\n",
       "      <td>Sun, Nov 26</td>\n",
       "      <td>6:00 PM</td>\n",
       "      <td>@ Memphis Grizzlies</td>\n",
       "      <td>bkn</td>\n",
       "      <td>2017</td>\n",
       "    </tr>\n",
       "    <tr>\n",
       "      <th>1</th>\n",
       "      <td>Sat, Nov 2</td>\n",
       "      <td>6:00 PM</td>\n",
       "      <td>vs Charlotte Hornets</td>\n",
       "      <td>gsw</td>\n",
       "      <td>2019</td>\n",
       "    </tr>\n",
       "    <tr>\n",
       "      <th>2</th>\n",
       "      <td>Thu, Nov 3</td>\n",
       "      <td>8:00 PM</td>\n",
       "      <td>vs Boston Celtics</td>\n",
       "      <td>cle</td>\n",
       "      <td>2016</td>\n",
       "    </tr>\n",
       "    <tr>\n",
       "      <th>7</th>\n",
       "      <td>Sat, Dec 13</td>\n",
       "      <td>7:00 PM</td>\n",
       "      <td>vs Atlanta Hawks</td>\n",
       "      <td>orl</td>\n",
       "      <td>2014</td>\n",
       "    </tr>\n",
       "    <tr>\n",
       "      <th>2</th>\n",
       "      <td>Fri, Nov 3</td>\n",
       "      <td>8:30 PM</td>\n",
       "      <td>vs Charlotte Hornets</td>\n",
       "      <td>sas</td>\n",
       "      <td>2017</td>\n",
       "    </tr>\n",
       "  </tbody>\n",
       "</table>\n",
       "</div>"
      ],
      "text/plain": [
       "           Date     Time              Opponent team_abbr  season\n",
       "11  Sun, Nov 26  6:00 PM   @ Memphis Grizzlies       bkn    2017\n",
       "1    Sat, Nov 2  6:00 PM  vs Charlotte Hornets       gsw    2019\n",
       "2    Thu, Nov 3  8:00 PM     vs Boston Celtics       cle    2016\n",
       "7   Sat, Dec 13  7:00 PM      vs Atlanta Hawks       orl    2014\n",
       "2    Fri, Nov 3  8:30 PM  vs Charlotte Hornets       sas    2017"
      ]
     },
     "execution_count": 30,
     "metadata": {},
     "output_type": "execute_result"
    }
   ],
   "source": [
    "game_time_df = pd.concat(dfs)\n",
    "print(game_time_df.shape)\n",
    "game_time_df.sample(5)"
   ]
  },
  {
   "cell_type": "code",
   "execution_count": 34,
   "metadata": {},
   "outputs": [
    {
     "name": "stdout",
     "output_type": "stream",
     "text": [
      "(24100, 9)\n"
     ]
    },
    {
     "data": {
      "text/html": [
       "<div>\n",
       "<style scoped>\n",
       "    .dataframe tbody tr th:only-of-type {\n",
       "        vertical-align: middle;\n",
       "    }\n",
       "\n",
       "    .dataframe tbody tr th {\n",
       "        vertical-align: top;\n",
       "    }\n",
       "\n",
       "    .dataframe thead th {\n",
       "        text-align: right;\n",
       "    }\n",
       "</style>\n",
       "<table border=\"1\" class=\"dataframe\">\n",
       "  <thead>\n",
       "    <tr style=\"text-align: right;\">\n",
       "      <th></th>\n",
       "      <th>Date</th>\n",
       "      <th>Time</th>\n",
       "      <th>Opponent</th>\n",
       "      <th>team_abbr</th>\n",
       "      <th>season</th>\n",
       "      <th>day_of_week</th>\n",
       "      <th>month</th>\n",
       "      <th>day_of_month</th>\n",
       "      <th>is_home_game</th>\n",
       "    </tr>\n",
       "  </thead>\n",
       "  <tbody>\n",
       "    <tr>\n",
       "      <th>1</th>\n",
       "      <td>Fri, Jan 2</td>\n",
       "      <td>9:00 PM</td>\n",
       "      <td>@ Utah Jazz</td>\n",
       "      <td>atl</td>\n",
       "      <td>2014</td>\n",
       "      <td>Fri</td>\n",
       "      <td>Jan</td>\n",
       "      <td>2</td>\n",
       "      <td>0</td>\n",
       "    </tr>\n",
       "    <tr>\n",
       "      <th>2</th>\n",
       "      <td>Sat, Jan 3</td>\n",
       "      <td>10:00 PM</td>\n",
       "      <td>@ Portland Trail Blazers</td>\n",
       "      <td>atl</td>\n",
       "      <td>2014</td>\n",
       "      <td>Sat</td>\n",
       "      <td>Jan</td>\n",
       "      <td>3</td>\n",
       "      <td>0</td>\n",
       "    </tr>\n",
       "    <tr>\n",
       "      <th>3</th>\n",
       "      <td>Mon, Jan 5</td>\n",
       "      <td>10:30 PM</td>\n",
       "      <td>@ Los Angeles Clippers</td>\n",
       "      <td>atl</td>\n",
       "      <td>2014</td>\n",
       "      <td>Mon</td>\n",
       "      <td>Jan</td>\n",
       "      <td>5</td>\n",
       "      <td>0</td>\n",
       "    </tr>\n",
       "    <tr>\n",
       "      <th>4</th>\n",
       "      <td>Wed, Jan 7</td>\n",
       "      <td>7:30 PM</td>\n",
       "      <td>vs Memphis Grizzlies</td>\n",
       "      <td>atl</td>\n",
       "      <td>2014</td>\n",
       "      <td>Wed</td>\n",
       "      <td>Jan</td>\n",
       "      <td>7</td>\n",
       "      <td>1</td>\n",
       "    </tr>\n",
       "    <tr>\n",
       "      <th>5</th>\n",
       "      <td>Fri, Jan 9</td>\n",
       "      <td>7:30 PM</td>\n",
       "      <td>@ Detroit Pistons</td>\n",
       "      <td>atl</td>\n",
       "      <td>2014</td>\n",
       "      <td>Fri</td>\n",
       "      <td>Jan</td>\n",
       "      <td>9</td>\n",
       "      <td>0</td>\n",
       "    </tr>\n",
       "  </tbody>\n",
       "</table>\n",
       "</div>"
      ],
      "text/plain": [
       "         Date      Time                  Opponent team_abbr  season  \\\n",
       "1  Fri, Jan 2   9:00 PM               @ Utah Jazz       atl    2014   \n",
       "2  Sat, Jan 3  10:00 PM  @ Portland Trail Blazers       atl    2014   \n",
       "3  Mon, Jan 5  10:30 PM    @ Los Angeles Clippers       atl    2014   \n",
       "4  Wed, Jan 7   7:30 PM      vs Memphis Grizzlies       atl    2014   \n",
       "5  Fri, Jan 9   7:30 PM         @ Detroit Pistons       atl    2014   \n",
       "\n",
       "  day_of_week month day_of_month  is_home_game  \n",
       "1         Fri   Jan            2             0  \n",
       "2         Sat   Jan            3             0  \n",
       "3         Mon   Jan            5             0  \n",
       "4         Wed   Jan            7             1  \n",
       "5         Fri   Jan            9             0  "
      ]
     },
     "execution_count": 34,
     "metadata": {},
     "output_type": "execute_result"
    }
   ],
   "source": [
    "# do some cleaning\n",
    "\n",
    "# drop rows that say regular season\n",
    "game_time_df = game_time_df[\n",
    "    game_time_df['Date'] != \"Regular Season\"\n",
    "].copy()\n",
    "\n",
    "# split out the date\n",
    "game_time_df[[\"day_of_week\", \"month\", \"day_of_month\"]] = game_time_df['Date'].str.replace(\",\", \"\").str.split(\" \", expand=True)\n",
    "\n",
    "\n",
    "# get home vs away\n",
    "game_time_df[\"is_home_game\"] = np.where(game_time_df['Opponent'].str.contains(\"@\"), 0, 1)\n",
    "\n",
    "# clean up opponent\n",
    "# game_time_df['Opponent'] = game_time_df['Opponent'].str.split(\" \")\n",
    "\n",
    "# game_time_df['time_time'] = pd.to_datetime(game_time_df['Time'])\n",
    "\n",
    "\n",
    "\n",
    "print(game_time_df.shape)\n",
    "game_time_df.head()"
   ]
  },
  {
   "cell_type": "code",
   "execution_count": 32,
   "metadata": {},
   "outputs": [],
   "source": [
    "# game_time_df['Opponent'].unique()"
   ]
  },
  {
   "cell_type": "code",
   "execution_count": 7,
   "metadata": {},
   "outputs": [],
   "source": [
    "# pd.read_html(\"https://www.gamedaycalendar.com/schedules/nba/bos/2014/7\")#[1]\n"
   ]
  },
  {
   "cell_type": "code",
   "execution_count": 20,
   "metadata": {},
   "outputs": [
    {
     "data": {
      "text/plain": [
       "['vs', 'Altanta Hawks']"
      ]
     },
     "execution_count": 20,
     "metadata": {},
     "output_type": "execute_result"
    }
   ],
   "source": [
    "\"vs Altanta Hawks\".split(\" \", 1)"
   ]
  }
 ],
 "metadata": {
  "kernelspec": {
   "display_name": "nba-fatigue",
   "language": "python",
   "name": "python3"
  },
  "language_info": {
   "codemirror_mode": {
    "name": "ipython",
    "version": 3
   },
   "file_extension": ".py",
   "mimetype": "text/x-python",
   "name": "python",
   "nbconvert_exporter": "python",
   "pygments_lexer": "ipython3",
   "version": "3.11.0"
  },
  "orig_nbformat": 4
 },
 "nbformat": 4,
 "nbformat_minor": 2
}
