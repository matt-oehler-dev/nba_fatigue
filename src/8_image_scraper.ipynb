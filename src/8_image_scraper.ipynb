{
 "cells": [
  {
   "attachments": {},
   "cell_type": "markdown",
   "metadata": {},
   "source": [
    "## Scrape Images\n",
    "\n",
    "I used [this](\"https://loodibee.com/nba/\") site\n"
   ]
  },
  {
   "cell_type": "code",
   "execution_count": null,
   "metadata": {},
   "outputs": [],
   "source": [
    "import os\n",
    "import time\n",
    "\n",
    "import requests\n",
    "from bs4 import BeautifulSoup"
   ]
  },
  {
   "cell_type": "code",
   "execution_count": null,
   "metadata": {},
   "outputs": [],
   "source": [
    "# load the nba page\n",
    "r = requests.get(\"https://loodibee.com/nba/\")\n",
    "print(r.status_code)"
   ]
  },
  {
   "cell_type": "code",
   "execution_count": null,
   "metadata": {},
   "outputs": [],
   "source": [
    "# There is probably a better way to isolate the links to each team, but this worked for me as of 9/24/23\n",
    "soup = BeautifulSoup(r.text, \"html.parser\")\n",
    "links = soup.find_all(class_=\"sub-menu\")\n",
    "# print(links)\n",
    "\n",
    "# get links to all nba teams\n",
    "team_links = [link[\"href\"] for link in links[5].find_all(\"a\")]\n",
    "team_links"
   ]
  },
  {
   "cell_type": "code",
   "execution_count": null,
   "metadata": {},
   "outputs": [],
   "source": [
    "image_dir = \"../assets/\"\n",
    "\n",
    "images_scraped = 0\n",
    "for tl in team_links:\n",
    "    num_scraped = 0\n",
    "    \n",
    "    full_team_name = tl.split(\"/\")[-2]\n",
    "\n",
    "    r = requests.get(tl)\n",
    "    if r.status_code != 200:\n",
    "        print(f\"{full_team_name} - status code: {r.status_code}\")\n",
    "        continue\n",
    "\n",
    "    soup = BeautifulSoup(r.text, \"html.parser\")\n",
    "    img_tags = soup.find_all(\"img\")\n",
    "\n",
    "    # this probably isn't perfect, but it seems to do ok\n",
    "    # city, team = full_team_name.split(\"-\")\n",
    "    # src_list = [x for x in img_tags if city in x or team in x['src']]\n",
    "    src_list = [x['src'] for x in img_tags if \"png\" in x['src']]\n",
    "    \n",
    "    # Check if the directory exists\n",
    "    team_image_dir = os.path.join(image_dir, full_team_name)\n",
    "    if not os.path.exists(team_image_dir):\n",
    "        # If it doesn't exist, create a new directory\n",
    "        os.makedirs(team_image_dir)\n",
    "\n",
    "    for image in src_list:\n",
    "        try:\n",
    "            # time.sleep(1)\n",
    "            img = requests.get(image)\n",
    "            # print(r.status_code)\n",
    "            with open(os.path.join(team_image_dir, image.split(\"/\")[-1]), \"wb\") as f:\n",
    "                f.write(img.content)\n",
    "            num_scraped += 1\n",
    "        except Exception as e:\n",
    "            print(f\"error scraping {image}\")\n",
    "            print(image)\n",
    "            print(e)\n",
    "            print()\n",
    "            continue\n",
    "    images_scraped += num_scraped\n",
    "    print(f\"{full_team_name}: {num_scraped} images scraped\")\n",
    "print(\"Done\")"
   ]
  },
  {
   "cell_type": "code",
   "execution_count": null,
   "metadata": {},
   "outputs": [],
   "source": [
    "# pause notebook\n",
    "assert False"
   ]
  },
  {
   "attachments": {},
   "cell_type": "markdown",
   "metadata": {},
   "source": [
    "### Trying NBA.com"
   ]
  },
  {
   "cell_type": "code",
   "execution_count": 1,
   "metadata": {},
   "outputs": [],
   "source": [
    "import os\n",
    "import time\n",
    "\n",
    "import requests\n",
    "from bs4 import BeautifulSoup\n",
    "import pandas as pd\n",
    "import cairosvg\n"
   ]
  },
  {
   "cell_type": "code",
   "execution_count": 2,
   "metadata": {},
   "outputs": [],
   "source": [
    "team_df = pd.read_csv(\"../data/team_info.csv\")\n",
    "team_df.head()\n",
    "\n",
    "id_to_abbr_dict = (\n",
    "    team_df[[\"id\", \"abbreviation\"]]\n",
    "    .assign(id=team_df['id'].astype(str))\n",
    "    .set_index(\"id\")[\"abbreviation\"]\n",
    "    .str.lower()\n",
    "    .to_dict()\n",
    ")\n",
    "# id_to_abbr_dict"
   ]
  },
  {
   "cell_type": "code",
   "execution_count": 3,
   "metadata": {},
   "outputs": [
    {
     "name": "stdout",
     "output_type": "stream",
     "text": [
      "200\n"
     ]
    }
   ],
   "source": [
    "nba_url = \"https://www.nba.com/teams\"\n",
    "\n",
    "# load the nba page\n",
    "r = requests.get(nba_url)\n",
    "print(r.status_code)"
   ]
  },
  {
   "cell_type": "code",
   "execution_count": 8,
   "metadata": {},
   "outputs": [
    {
     "name": "stdout",
     "output_type": "stream",
     "text": [
      "30\n"
     ]
    },
    {
     "data": {
      "text/plain": [
       "['https://cdn.nba.com/logos/nba/1610612766/primary/L/logo.svg',\n",
       " 'https://cdn.nba.com/logos/nba/1610612750/primary/L/logo.svg',\n",
       " 'https://cdn.nba.com/logos/nba/1610612759/primary/L/logo.svg',\n",
       " 'https://cdn.nba.com/logos/nba/1610612754/primary/L/logo.svg',\n",
       " 'https://cdn.nba.com/logos/nba/1610612746/primary/L/logo.svg',\n",
       " 'https://cdn.nba.com/logos/nba/1610612764/primary/L/logo.svg',\n",
       " 'https://cdn.nba.com/logos/nba/1610612745/primary/L/logo.svg',\n",
       " 'https://cdn.nba.com/logos/nba/1610612744/primary/L/logo.svg',\n",
       " 'https://cdn.nba.com/logos/nba/1610612748/primary/L/logo.svg',\n",
       " 'https://cdn.nba.com/logos/nba/1610612765/primary/L/logo.svg',\n",
       " 'https://cdn.nba.com/logos/nba/1610612740/primary/L/logo.svg',\n",
       " 'https://cdn.nba.com/logos/nba/1610612756/primary/L/logo.svg',\n",
       " 'https://cdn.nba.com/logos/nba/1610612749/primary/L/logo.svg',\n",
       " 'https://cdn.nba.com/logos/nba/1610612757/primary/L/logo.svg',\n",
       " 'https://cdn.nba.com/logos/nba/1610612755/primary/L/logo.svg',\n",
       " 'https://cdn.nba.com/logos/nba/1610612743/primary/L/logo.svg',\n",
       " 'https://cdn.nba.com/logos/nba/1610612741/primary/L/logo.svg',\n",
       " 'https://cdn.nba.com/logos/nba/1610612752/primary/L/logo.svg',\n",
       " 'https://cdn.nba.com/logos/nba/1610612751/primary/L/logo.svg',\n",
       " 'https://cdn.nba.com/logos/nba/1610612737/primary/L/logo.svg',\n",
       " 'https://cdn.nba.com/logos/nba/1610612747/primary/L/logo.svg',\n",
       " 'https://cdn.nba.com/logos/nba/1610612753/primary/L/logo.svg',\n",
       " 'https://cdn.nba.com/logos/nba/1610612742/primary/L/logo.svg',\n",
       " 'https://cdn.nba.com/logos/nba/1610612763/primary/L/logo.svg',\n",
       " 'https://cdn.nba.com/logos/nba/1610612738/primary/L/logo.svg',\n",
       " 'https://cdn.nba.com/logos/nba/1610612758/primary/L/logo.svg',\n",
       " 'https://cdn.nba.com/logos/nba/1610612739/primary/L/logo.svg',\n",
       " 'https://cdn.nba.com/logos/nba/1610612762/primary/L/logo.svg',\n",
       " 'https://cdn.nba.com/logos/nba/1610612761/primary/L/logo.svg',\n",
       " 'https://cdn.nba.com/logos/nba/1610612760/primary/L/logo.svg']"
      ]
     },
     "execution_count": 8,
     "metadata": {},
     "output_type": "execute_result"
    }
   ],
   "source": [
    "# There is probably a better way to isolate the links to each team, but this worked for me as of 9/24/23\n",
    "soup = BeautifulSoup(r.text, \"html.parser\")\n",
    "\n",
    "image_src_urls = [img['src'] for img in soup.find_all(\"img\") if \"primary\" in img['src']]\n",
    "image_src_urls = list(set(image_src_urls))\n",
    "print(len(image_src_urls))\n",
    "# print(len(set(image_src_urls)))\n",
    "image_src_urls[:5]"
   ]
  },
  {
   "cell_type": "code",
   "execution_count": 14,
   "metadata": {},
   "outputs": [
    {
     "name": "stdout",
     "output_type": "stream",
     "text": [
      "SVG file saved as ../assets/_nba/cha.svg\n",
      "SVG file saved as ../assets/_nba/min.svg\n",
      "SVG file saved as ../assets/_nba/sas.svg\n",
      "SVG file saved as ../assets/_nba/ind.svg\n",
      "SVG file saved as ../assets/_nba/lac.svg\n",
      "SVG file saved as ../assets/_nba/was.svg\n",
      "SVG file saved as ../assets/_nba/hou.svg\n",
      "SVG file saved as ../assets/_nba/gsw.svg\n",
      "SVG file saved as ../assets/_nba/mia.svg\n",
      "SVG file saved as ../assets/_nba/det.svg\n",
      "SVG file saved as ../assets/_nba/nop.svg\n",
      "SVG file saved as ../assets/_nba/phx.svg\n",
      "SVG file saved as ../assets/_nba/mil.svg\n",
      "SVG file saved as ../assets/_nba/por.svg\n",
      "SVG file saved as ../assets/_nba/phi.svg\n",
      "SVG file saved as ../assets/_nba/den.svg\n",
      "SVG file saved as ../assets/_nba/chi.svg\n",
      "SVG file saved as ../assets/_nba/nyk.svg\n",
      "SVG file saved as ../assets/_nba/bkn.svg\n",
      "SVG file saved as ../assets/_nba/atl.svg\n",
      "SVG file saved as ../assets/_nba/lal.svg\n",
      "SVG file saved as ../assets/_nba/orl.svg\n",
      "SVG file saved as ../assets/_nba/dal.svg\n",
      "SVG file saved as ../assets/_nba/mem.svg\n",
      "SVG file saved as ../assets/_nba/bos.svg\n",
      "SVG file saved as ../assets/_nba/sac.svg\n",
      "SVG file saved as ../assets/_nba/cle.svg\n",
      "SVG file saved as ../assets/_nba/uta.svg\n",
      "SVG file saved as ../assets/_nba/tor.svg\n",
      "SVG file saved as ../assets/_nba/okc.svg\n"
     ]
    }
   ],
   "source": [
    "output_dir = \"../assets/_nba_svg\"\n",
    "# Check if the directory exists\n",
    "if not os.path.exists(output_dir):\n",
    "    # If it doesn't exist, create a new directory\n",
    "    os.makedirs(output_dir)\n",
    "\n",
    "for image_url in image_src_urls:\n",
    "    try:\n",
    "        # Send an HTTP GET request to the SVG URL\n",
    "        response = requests.get(image_url)\n",
    "        time.sleep(3)\n",
    "\n",
    "        # Check if the request was successful (HTTP status code 200)\n",
    "        if response.status_code == 200:\n",
    "            # Specify the path where you want to save the SVG file\n",
    "            # Change 'output_file.svg' to the desired file name and path\n",
    "            id_from_path = image_url.split(\"/\")[5]\n",
    "            save_path = os.path.join(output_dir,f\"{id_to_abbr_dict[id_from_path]}.svg\")\n",
    "            # Open a file in binary write mode and save the SVG content\n",
    "            with open(save_path, \"wb\") as file:\n",
    "                file.write(response.content)\n",
    "\n",
    "            print(f\"SVG file saved as {save_path}\")\n",
    "        else:\n",
    "            print(f\"Failed to fetch the SVG file. Status code: {response.status_code}\")\n",
    "            \n",
    "    except Exception as e:\n",
    "        print(f\"An error occurred: {str(e)}\")"
   ]
  },
  {
   "cell_type": "code",
   "execution_count": 10,
   "metadata": {},
   "outputs": [
    {
     "name": "stdout",
     "output_type": "stream",
     "text": [
      "../assets/_nba/cha.svg\n"
     ]
    }
   ],
   "source": [
    "print(save_path)"
   ]
  },
  {
   "cell_type": "code",
   "execution_count": 20,
   "metadata": {},
   "outputs": [
    {
     "name": "stdout",
     "output_type": "stream",
     "text": [
      "SVG file '../assets/_nba_svg/det.svg' converted to PNG file '../assets/_nba_png/det.png'\n",
      "SVG file '../assets/_nba_svg/bkn.svg' converted to PNG file '../assets/_nba_png/bkn.png'\n",
      "SVG file '../assets/_nba_svg/atl.svg' converted to PNG file '../assets/_nba_png/atl.png'\n",
      "SVG file '../assets/_nba_svg/cha.svg' converted to PNG file '../assets/_nba_png/cha.png'\n",
      "SVG file '../assets/_nba_svg/phi.svg' converted to PNG file '../assets/_nba_png/phi.png'\n",
      "SVG file '../assets/_nba_svg/bos.svg' converted to PNG file '../assets/_nba_png/bos.png'\n",
      "SVG file '../assets/_nba_svg/sas.svg' converted to PNG file '../assets/_nba_png/sas.png'\n",
      "SVG file '../assets/_nba_svg/okc.svg' converted to PNG file '../assets/_nba_png/okc.png'\n",
      "SVG file '../assets/_nba_svg/uta.svg' converted to PNG file '../assets/_nba_png/uta.png'\n",
      "SVG file '../assets/_nba_svg/lac.svg' converted to PNG file '../assets/_nba_png/lac.png'\n",
      "SVG file '../assets/_nba_svg/sac.svg' converted to PNG file '../assets/_nba_png/sac.png'\n",
      "SVG file '../assets/_nba_svg/mil.svg' converted to PNG file '../assets/_nba_png/mil.png'\n",
      "SVG file '../assets/_nba_svg/phx.svg' converted to PNG file '../assets/_nba_png/phx.png'\n",
      "SVG file '../assets/_nba_svg/was.svg' converted to PNG file '../assets/_nba_png/was.png'\n",
      "SVG file '../assets/_nba_svg/dal.svg' converted to PNG file '../assets/_nba_png/dal.png'\n",
      "SVG file '../assets/_nba_svg/min.svg' converted to PNG file '../assets/_nba_png/min.png'\n",
      "SVG file '../assets/_nba_svg/mem.svg' converted to PNG file '../assets/_nba_png/mem.png'\n",
      "SVG file '../assets/_nba_svg/chi.svg' converted to PNG file '../assets/_nba_png/chi.png'\n",
      "SVG file '../assets/_nba_svg/mia.svg' converted to PNG file '../assets/_nba_png/mia.png'\n",
      "SVG file '../assets/_nba_svg/gsw.svg' converted to PNG file '../assets/_nba_png/gsw.png'\n",
      "SVG file '../assets/_nba_svg/nop.svg' converted to PNG file '../assets/_nba_png/nop.png'\n",
      "SVG file '../assets/_nba_svg/nyk.svg' converted to PNG file '../assets/_nba_png/nyk.png'\n",
      "SVG file '../assets/_nba_svg/orl.svg' converted to PNG file '../assets/_nba_png/orl.png'\n",
      "SVG file '../assets/_nba_svg/hou.svg' converted to PNG file '../assets/_nba_png/hou.png'\n",
      "SVG file '../assets/_nba_svg/lal.svg' converted to PNG file '../assets/_nba_png/lal.png'\n",
      "SVG file '../assets/_nba_svg/por.svg' converted to PNG file '../assets/_nba_png/por.png'\n",
      "SVG file '../assets/_nba_svg/cle.svg' converted to PNG file '../assets/_nba_png/cle.png'\n",
      "SVG file '../assets/_nba_svg/tor.svg' converted to PNG file '../assets/_nba_png/tor.png'\n",
      "SVG file '../assets/_nba_svg/ind.svg' converted to PNG file '../assets/_nba_png/ind.png'\n",
      "SVG file '../assets/_nba_svg/den.svg' converted to PNG file '../assets/_nba_png/den.png'\n"
     ]
    }
   ],
   "source": [
    "# convert the svg files to png\n",
    "png_dir = \"../assets/_nba_png/\"\n",
    "for item in os.listdir(output_dir):\n",
    "    try:\n",
    "        # Convert the SVG to PNG\n",
    "        svg_file = os.path.join(output_dir,item)\n",
    "        png_file = os.path.join(png_dir, f\"{item.split('.')[0]}.png\")\n",
    "        \n",
    "        cairosvg.svg2png(url=svg_file, write_to=png_file)\n",
    "\n",
    "        print(f\"SVG file '{svg_file}' converted to PNG file '{png_file}'\")\n",
    "\n",
    "    except Exception as e:\n",
    "        print(f\"An error occurred: {str(e)}\")\n",
    "    \n"
   ]
  },
  {
   "cell_type": "code",
   "execution_count": null,
   "metadata": {},
   "outputs": [],
   "source": [
    "# Replace with the path to your SVG file\n",
    "svg_file = save_path#\"input.svg\"\n",
    "\n",
    "# Replace with the desired output PNG file path\n",
    "png_file = \"output.png\"\n",
    "\n",
    "try:\n",
    "    # Convert the SVG to PNG\n",
    "    cairosvg.svg2png(url=svg_file, write_to=png_file)\n",
    "\n",
    "    print(f\"SVG file '{svg_file}' converted to PNG file '{png_file}'\")\n",
    "\n",
    "except Exception as e:\n",
    "    print(f\"An error occurred: {str(e)}\")"
   ]
  },
  {
   "attachments": {},
   "cell_type": "markdown",
   "metadata": {},
   "source": [
    "### Renaming Logos to abbreviations"
   ]
  },
  {
   "cell_type": "code",
   "execution_count": null,
   "metadata": {},
   "outputs": [],
   "source": [
    "# I just did it manually 🤷‍♂️\n",
    "\n",
    "# import pandas as pd\n",
    "\n",
    "# team_df = pd.read_csv(\"../data/team_info.csv\")\n",
    "# print(team_df.shape)\n",
    "# team_df.head(30)"
   ]
  },
  {
   "cell_type": "code",
   "execution_count": null,
   "metadata": {},
   "outputs": [],
   "source": [
    "# import os\n",
    "\n",
    "# images = os.listdir(\"../assets/_logos/\")\n",
    "# print(len(images))\n",
    "# for image in images:\n",
    "#     if image == \".DS_Store\":\n",
    "#         continue\n",
    "#     print(image)\n",
    "    "
   ]
  },
  {
   "cell_type": "code",
   "execution_count": null,
   "metadata": {},
   "outputs": [],
   "source": []
  }
 ],
 "metadata": {
  "kernelspec": {
   "display_name": "nba-fatigue",
   "language": "python",
   "name": "python3"
  },
  "language_info": {
   "codemirror_mode": {
    "name": "ipython",
    "version": 3
   },
   "file_extension": ".py",
   "mimetype": "text/x-python",
   "name": "python",
   "nbconvert_exporter": "python",
   "pygments_lexer": "ipython3",
   "version": "3.11.0"
  },
  "orig_nbformat": 4
 },
 "nbformat": 4,
 "nbformat_minor": 2
}
