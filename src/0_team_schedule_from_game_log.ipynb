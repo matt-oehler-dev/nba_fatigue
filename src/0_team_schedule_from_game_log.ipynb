{
 "cells": [
  {
   "cell_type": "code",
   "execution_count": null,
   "metadata": {},
   "outputs": [],
   "source": [
    "import pandas as pd\n",
    "pd.options.display.max_columns = None\n",
    "from nba_api.stats.static import teams\n",
    "from nba_api.stats.endpoints import teamgamelog\n",
    "\n",
    "import numpy as np"
   ]
  },
  {
   "cell_type": "code",
   "execution_count": null,
   "metadata": {},
   "outputs": [],
   "source": [
    "\n",
    "# Get all NBA teams\n",
    "nba_teams = teams.get_teams()\n",
    "nba_teams[0]"
   ]
  },
  {
   "cell_type": "code",
   "execution_count": null,
   "metadata": {},
   "outputs": [],
   "source": [
    "# pd.DataFrame(nba_teams).to_csv(\"../data/team_info.csv\", index=False)"
   ]
  },
  {
   "cell_type": "code",
   "execution_count": null,
   "metadata": {},
   "outputs": [],
   "source": [
    "# Initialize a list to store all games dataframes\n",
    "all_games = []\n",
    "\n",
    "season_start = 2022\n",
    "season_end = 2025\n",
    "for season in range(season_start, season_end + 1):\n",
    "    print(season)\n",
    "\n",
    "    # Loop over all teams\n",
    "    for team in nba_teams[:]:\n",
    "        team_id = team[\"id\"]\n",
    "        # print(team[\"full_name\"], )\n",
    "\n",
    "        # Query the API\n",
    "        response = teamgamelog.TeamGameLog(\n",
    "            team_id=team_id,\n",
    "            season=season,\n",
    "            season_type_all_star='Regular Season'\n",
    "        )\n",
    "\n",
    "        games = response.get_data_frames()[0].sort_values(by=\"Game_ID\")\n",
    "        games['team'] = team['full_name']\n",
    "        games['season_start_year'] = season\n",
    "        # print(f\"num games: {games.shape[0]}\")\n",
    "        \n",
    "        # Append games dataframe to the list\n",
    "        all_games.append(games)\n",
    "\n",
    "    # Concatenate all games dataframes\n",
    "    all_games_df = pd.concat(all_games)\n",
    "    \n",
    "\n",
    "print(all_games_df.shape)\n",
    "all_games_df"
   ]
  },
  {
   "cell_type": "code",
   "execution_count": null,
   "metadata": {},
   "outputs": [],
   "source": [
    "# opponents abbreviation\n",
    "all_games_df['opponent_abbreviation'] = all_games_df['MATCHUP'].str[-3:]\n",
    "all_games_df['team_abbreviation'] = all_games_df['MATCHUP'].str[:3]\n",
    "\n",
    "# home or away\n",
    "all_games_df['is_home_game'] = np.where(all_games_df['MATCHUP'].str.contains(\"@\"), 0, 1)\n",
    "\n",
    "# convert to date\n",
    "all_games_df['GAME_DATE'] = pd.to_datetime(all_games_df['GAME_DATE'])\n",
    "\n",
    "all_games_df.head()"
   ]
  },
  {
   "cell_type": "code",
   "execution_count": null,
   "metadata": {},
   "outputs": [],
   "source": [
    "print(all_games_df.shape)\n",
    "all_games_df"
   ]
  },
  {
   "cell_type": "code",
   "execution_count": null,
   "metadata": {},
   "outputs": [],
   "source": [
    "# how many games per team per regular season\n",
    "piv = all_games_df.pivot_table(\n",
    "    index=[\"team\", \"season_start_year\"],\n",
    "    values=[\"Game_ID\"],\n",
    "    aggfunc='count'\n",
    ")\n",
    "print(piv.shape)\n",
    "piv.head(30)"
   ]
  },
  {
   "cell_type": "code",
   "execution_count": null,
   "metadata": {},
   "outputs": [],
   "source": [
    "# why does 2020 only have 72 games"
   ]
  },
  {
   "cell_type": "code",
   "execution_count": null,
   "metadata": {},
   "outputs": [],
   "source": [
    "import time\n",
    "# print(time.ctime())\n",
    "# all_games_df.to_csv(\"../data/2013-2022-regular-season-matchups.csv\", index=False)\n"
   ]
  },
  {
   "cell_type": "code",
   "execution_count": null,
   "metadata": {},
   "outputs": [],
   "source": [
    "all_games_df.head(50)"
   ]
  }
 ],
 "metadata": {
  "kernelspec": {
   "display_name": "nba-fatigue",
   "language": "python",
   "name": "python3"
  },
  "language_info": {
   "codemirror_mode": {
    "name": "ipython",
    "version": 3
   },
   "file_extension": ".py",
   "mimetype": "text/x-python",
   "name": "python",
   "nbconvert_exporter": "python",
   "pygments_lexer": "ipython3",
   "version": "3.11.0"
  },
  "orig_nbformat": 4
 },
 "nbformat": 4,
 "nbformat_minor": 2
}
