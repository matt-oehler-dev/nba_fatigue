{
 "cells": [
  {
   "cell_type": "code",
   "execution_count": null,
   "metadata": {},
   "outputs": [],
   "source": [
    "import pandas as pd\n",
    "pd.options.display.max_columns = None\n",
    "\n"
   ]
  },
  {
   "cell_type": "code",
   "execution_count": null,
   "metadata": {},
   "outputs": [],
   "source": []
  },
  {
   "cell_type": "code",
   "execution_count": null,
   "metadata": {},
   "outputs": [],
   "source": [
    "# this is the website I scraped it from, did some manual clean up of the cities though\n",
    "df = pd.read_html(\"https://lionstobakersfield.blogspot.com/2019/01/nba-arenas-with-latitude-and-longitude.html\")[0]\n",
    "\n",
    "df.columns=['Team', \"Arena\", \"Latitude\", \"Longitude\"]\n",
    "\n",
    "# split city and team\n",
    "df[['City', 'Team']] = df['Team'].str.split(' ', n=1, expand=True)\n",
    "\n",
    "# clean lat and longitude\n",
    "df['Latitude'] = df['Latitude'].str.replace('° N', '').astype(float)\n",
    "df['Longitude'] = df['Longitude'].str.replace('° W', '').astype(float)\n",
    "\n",
    "\n",
    "\n",
    "# df.to_csv(\"../data/arena_coordinates.csv\", index=False)\n",
    "print(df.shape)\n",
    "print(df.head())"
   ]
  },
  {
   "cell_type": "code",
   "execution_count": null,
   "metadata": {},
   "outputs": [],
   "source": []
  },
  {
   "cell_type": "code",
   "execution_count": null,
   "metadata": {},
   "outputs": [],
   "source": [
    "\n",
    "df = pd.read_csv(\"../data/arena_coordinates.csv\")\n",
    "\n",
    "# for c in df.columns:\n",
    "#     if str(df[c].dtype) == \"object\":\n",
    "#         df[c] = df[c].str.strip()\n",
    "\n",
    "df.info()\n",
    "df"
   ]
  },
  {
   "cell_type": "code",
   "execution_count": null,
   "metadata": {},
   "outputs": [],
   "source": [
    "\n",
    "# NOTE: there is a parsing issue with Los Angeles\n",
    "df\n"
   ]
  },
  {
   "cell_type": "code",
   "execution_count": null,
   "metadata": {},
   "outputs": [],
   "source": [
    "df[[\"Latitude\", \"Longitude\"]].head().to_dict()"
   ]
  }
 ],
 "metadata": {
  "kernelspec": {
   "display_name": "nba-fatigue",
   "language": "python",
   "name": "python3"
  },
  "language_info": {
   "codemirror_mode": {
    "name": "ipython",
    "version": 3
   },
   "file_extension": ".py",
   "mimetype": "text/x-python",
   "name": "python",
   "nbconvert_exporter": "python",
   "pygments_lexer": "ipython3",
   "version": "3.11.0"
  },
  "orig_nbformat": 4
 },
 "nbformat": 4,
 "nbformat_minor": 2
}
