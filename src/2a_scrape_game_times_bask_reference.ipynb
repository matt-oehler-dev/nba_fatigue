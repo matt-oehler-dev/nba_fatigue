{
 "cells": [
  {
   "cell_type": "code",
   "execution_count": null,
   "metadata": {},
   "outputs": [],
   "source": [
    "import numpy as np\n",
    "import pandas as pd\n",
    "\n",
    "pd.options.display.max_columns = None\n",
    "pd.options.display.max_rows = None\n",
    "\n",
    "import requests\n",
    "from bs4 import BeautifulSoup\n",
    "import time"
   ]
  },
  {
   "cell_type": "code",
   "execution_count": null,
   "metadata": {},
   "outputs": [],
   "source": [
    "url = \"https://www.basketball-reference.com/leagues/NBA_2020_games-april.html\"\n",
    "page = pd.read_html(url)"
   ]
  },
  {
   "cell_type": "code",
   "execution_count": null,
   "metadata": {},
   "outputs": [],
   "source": [
    "# season = 2022\n",
    "# month = \"october\"\n",
    "# base_url = f\"https://www.basketball-reference.com/leagues/NBA_{season}_games.html\""
   ]
  },
  {
   "cell_type": "code",
   "execution_count": null,
   "metadata": {},
   "outputs": [],
   "source": [
    "# page = requests.get(\"https://www.basketball-reference.com/leagues/NBA_2014_games.html\")\n",
    "# print(page.status_code)\n",
    "# soup = BeautifulSoup(page.content, \"html.parser\")\n",
    "\n",
    "# filter_div = soup.find('div', class_='filter')\n",
    "# filter_div"
   ]
  },
  {
   "cell_type": "code",
   "execution_count": null,
   "metadata": {},
   "outputs": [],
   "source": [
    "# base_url = \"https://www.basketball-reference.com\"\n",
    "# a = [base_url + link[\"href\"] for link in filter_div.find_all(\"a\")]\n",
    "# a"
   ]
  },
  {
   "cell_type": "code",
   "execution_count": null,
   "metadata": {},
   "outputs": [],
   "source": [
    "for season in range(2008, 2009):\n",
    "    print(season)"
   ]
  },
  {
   "cell_type": "code",
   "execution_count": null,
   "metadata": {},
   "outputs": [],
   "source": [
    "season = \"\"\n",
    "base_url = \"https://www.basketball-reference.com\"\n",
    "\n",
    "dfs = []\n",
    "for season in range(2008, 2025):\n",
    "# for season in range(2008, 2010):\n",
    "    time.sleep(10)\n",
    "    print(season)\n",
    "    temp_url = f\"https://www.basketball-reference.com/leagues/NBA_{season}_games.html\"\n",
    "    page = requests.get(temp_url)\n",
    "    # print(page.status_code)\n",
    "    soup = BeautifulSoup(page.content, \"html.parser\")\n",
    "    filter_div = soup.find(\"div\", class_=\"filter\")\n",
    "    if filter_div is None:\n",
    "        continue\n",
    "\n",
    "    links = [base_url + link[\"href\"] for link in filter_div.find_all(\"a\")]\n",
    "    is_playoffs = False\n",
    "    shape_string = \"\"\n",
    "    playoff_ind = 1_000_000\n",
    "    for l in links:\n",
    "        time.sleep(3)\n",
    "        # print(l)\n",
    "        try:\n",
    "            temp_df = pd.read_html(l)[0]\n",
    "            temp_df['Notes'] = temp_df['Notes'].astype(str)\n",
    "\n",
    "            if temp_df[temp_df[\"Date\"].str.lower() == \"playoffs\"].shape[0] > 0:\n",
    "                is_playoffs = True\n",
    "                playoff_ind = temp_df[temp_df[\"Date\"].str.lower() == \"playoffs\"].index[0]\n",
    "                temp_df[\"is_playoff\"] = np.where(temp_df.index >= playoff_ind, 1, 0)\n",
    "            elif temp_df[temp_df[\"Notes\"].str.lower() == \"play-in game\"].shape[0] > 0:\n",
    "                is_playoffs = True\n",
    "                playoff_ind = temp_df[temp_df[\"Notes\"].str.lower() == \"play-in game\"].index[0]\n",
    "                temp_df[\"is_playoff\"] = np.where(temp_df.index >= playoff_ind, 1, 0)\n",
    "            elif is_playoffs:\n",
    "                temp_df[\"is_playoff\"] = 1\n",
    "            else:\n",
    "                temp_df[\"is_playoff\"] = 0\n",
    "            # if temp_df[temp_df[\"Date\"].str.lower() == \"playoffs\"].shape[0] > 0:\n",
    "            #     is_playoffs = True\n",
    "            #     playoff_ind = temp_df[temp_df[\"Date\"].str.lower() == \"playoffs\"].index[\n",
    "            #         0\n",
    "            #     ]\n",
    "            #     temp_df[\"is_playoff\"] = np.where(temp_df.index >= playoff_ind, 1, 0)\n",
    "            # elif temp_df[temp_df[\"Notes\"].str.lower() == \"play-in game\"]\n",
    "            # elif is_playoffs:\n",
    "            #     temp_df[\"is_playoff\"] = 1\n",
    "            # else:\n",
    "            #     temp_df[\"is_playoff\"] = 0\n",
    "\n",
    "            temp_df[\"season_end_year\"] = season\n",
    "            temp_df[\"season_url\"] = temp_url\n",
    "            temp_df[\"link\"] = l\n",
    "            shape_string += \" \" + str(temp_df.shape)\n",
    "        except Exception as e:\n",
    "            print(str(e))\n",
    "            print(f\"error: {season} {l}\")\n",
    "\n",
    "        dfs.append(temp_df)\n",
    "\n",
    "    print(f\"season: {season}, status_code: {page.status_code}, shapes: {shape_string}\")\n",
    "\n",
    "master = pd.concat(dfs).reset_index(drop=True)\n",
    "print(master.shape)\n",
    "master.head()"
   ]
  },
  {
   "cell_type": "code",
   "execution_count": null,
   "metadata": {},
   "outputs": [],
   "source": [
    "# final cleaning steps\n",
    "master[\"season_start_year\"] = master[\"season_end_year\"] - 1\n",
    "master[\"date\"] = pd.to_datetime(master[\"Date\"].str.split(\",\", n=1).str[1])"
   ]
  },
  {
   "cell_type": "code",
   "execution_count": null,
   "metadata": {},
   "outputs": [],
   "source": [
    "print(master.shape)\n",
    "master.head()"
   ]
  },
  {
   "cell_type": "code",
   "execution_count": null,
   "metadata": {},
   "outputs": [],
   "source": [
    "assert False"
   ]
  },
  {
   "cell_type": "code",
   "execution_count": null,
   "metadata": {},
   "outputs": [],
   "source": [
    "# if seasons are range(2008, 2025) then it should be 21_690 rows\n",
    "print(master.shape)\n",
    "master.head()"
   ]
  },
  {
   "cell_type": "code",
   "execution_count": null,
   "metadata": {},
   "outputs": [],
   "source": [
    "# index is unique\n",
    "print(master.shape)\n",
    "print(len(set(master.index)))"
   ]
  },
  {
   "cell_type": "code",
   "execution_count": null,
   "metadata": {},
   "outputs": [],
   "source": [
    "# number of playoff games\n",
    "master.pivot_table(\n",
    "    index=['season_start_year'],\n",
    "    values=[\"is_playoff\"],\n",
    "    aggfunc=sum\n",
    ")"
   ]
  },
  {
   "cell_type": "code",
   "execution_count": null,
   "metadata": {},
   "outputs": [],
   "source": []
  },
  {
   "cell_type": "code",
   "execution_count": null,
   "metadata": {},
   "outputs": [],
   "source": [
    "# mark the playoff games\n",
    "playoffs_index = master.reset_index()[master.reset_index()[\"Date\"] == \"Playoffs\"].index  # [0]\n",
    "playoffs_index"
   ]
  },
  {
   "cell_type": "code",
   "execution_count": null,
   "metadata": {},
   "outputs": [],
   "source": [
    "# a = master.copy()\n",
    "# a[a['Notes']== \"Play-In Game\"].head()\n"
   ]
  },
  {
   "cell_type": "code",
   "execution_count": null,
   "metadata": {},
   "outputs": [],
   "source": [
    "# a_ind = a[a['Notes']== \"Play-In Game\"].index\n",
    "# print(a_ind)\n",
    "\n",
    "\n",
    "# a['is_playoffs'] = 1\n",
    "\n",
    "# a.head()\n"
   ]
  },
  {
   "cell_type": "code",
   "execution_count": null,
   "metadata": {},
   "outputs": [],
   "source": [
    "# note that this includes playoff games\n",
    "master[master[\"Start (ET)\"] != \"Playoffs\"].to_csv(\n",
    "    \"../data/game_times_bask_ref_2008-2024.csv\", index=False\n",
    ")\n",
    "print(time.ctime())"
   ]
  },
  {
   "cell_type": "code",
   "execution_count": null,
   "metadata": {},
   "outputs": [],
   "source": [
    "len(set(master.index))"
   ]
  },
  {
   "cell_type": "code",
   "execution_count": null,
   "metadata": {},
   "outputs": [],
   "source": [
    "master.tail(15)"
   ]
  },
  {
   "cell_type": "code",
   "execution_count": null,
   "metadata": {},
   "outputs": [],
   "source": [
    "import numpy as np\n",
    "\n",
    "blah = pd.DataFrame(\n",
    "    {\n",
    "        \"Date\": {\n",
    "            0: \"Tue, Oct 30, 2007\",\n",
    "            1: \"Tue, Oct 30, 2007\",\n",
    "            2: \"Tue, Oct 30, 2007\",\n",
    "            3: \"Wed, Oct 31, 2007\",\n",
    "            4: \"Wed, Oct 31, 2007\",\n",
    "        },\n",
    "        \"Start (ET)\": {0: \"8:00p\", 1: \"10:30p\", 2: \"10:30p\", 3: \"7:00p\", 4: \"7:00p\"},\n",
    "        \"Visitor/Neutral\": {\n",
    "            0: \"Portland Trail Blazers\",\n",
    "            1: \"Utah Jazz\",\n",
    "            2: \"Houston Rockets\",\n",
    "            3: \"Washington Wizards\",\n",
    "            4: \"Milwaukee Bucks\",\n",
    "        },\n",
    "        \"PTS\": {0: 97, 1: 117, 2: 95, 3: 110, 4: 83},\n",
    "        \"Home/Neutral\": {\n",
    "            0: \"San Antonio Spurs\",\n",
    "            1: \"Golden State Warriors\",\n",
    "            2: \"Los Angeles Lakers\",\n",
    "            3: \"Indiana Pacers\",\n",
    "            4: \"Orlando Magic\",\n",
    "        },\n",
    "        \"PTS.1\": {0: 106, 1: 96, 2: 93, 3: 119, 4: 102},\n",
    "        \"Unnamed: 6\": {\n",
    "            0: \"Box Score\",\n",
    "            1: \"Box Score\",\n",
    "            2: \"Box Score\",\n",
    "            3: \"Box Score\",\n",
    "            4: \"Box Score\",\n",
    "        },\n",
    "        \"Attend.\": {0: 18797, 1: 19832, 2: 18997, 3: 16212, 4: 17519},\n",
    "    }\n",
    ")\n",
    "\n",
    "blah[\"blawdy\"] = np.where(blah.index > 2, 1, 0)\n",
    "\n",
    "blah"
   ]
  },
  {
   "cell_type": "code",
   "execution_count": null,
   "metadata": {},
   "outputs": [],
   "source": [
    "# assert False"
   ]
  },
  {
   "cell_type": "code",
   "execution_count": null,
   "metadata": {},
   "outputs": [],
   "source": [
    "master[\"Start (ET)\"].value_counts()"
   ]
  },
  {
   "cell_type": "code",
   "execution_count": null,
   "metadata": {},
   "outputs": [],
   "source": [
    "master[master[\"Start (ET)\"] == \"Playoffs\"][\"link\"].values"
   ]
  },
  {
   "attachments": {},
   "cell_type": "markdown",
   "metadata": {},
   "source": [
    "### Scratch\n"
   ]
  },
  {
   "cell_type": "code",
   "execution_count": null,
   "metadata": {},
   "outputs": [],
   "source": [
    "import pandas as pd\n",
    "\n",
    "pd.options.display.max_columns = None\n",
    "pd.options.display.max_rows = None"
   ]
  },
  {
   "cell_type": "code",
   "execution_count": null,
   "metadata": {},
   "outputs": [],
   "source": [
    "# df = pd.read_csv(\"../data/br_all_games.csv\")\n",
    "\n",
    "# df[\"game_time\"] = pd.to_datetime(df[\"game_time\"])\n",
    "# print(df.shape)\n",
    "\n",
    "# df.head()"
   ]
  },
  {
   "cell_type": "code",
   "execution_count": null,
   "metadata": {},
   "outputs": [],
   "source": [
    "# temp = df[\n",
    "#     (df[\"game_time\"] >= \"2020-07-30\") & (df[\"game_time\"] <= \"2020-07-31\")\n",
    "# ].sort_values(by=[\"team\", \"game_time\"])\n",
    "# print(temp.shape)\n",
    "# temp"
   ]
  },
  {
   "cell_type": "code",
   "execution_count": null,
   "metadata": {},
   "outputs": [],
   "source": [
    "# a = pd.read_html(\n",
    "#     \"https://www.basketball-reference.com/leagues/NBA_2020_games-august.html\"\n",
    "# )\n",
    "# print(len(a))\n",
    "# a[0]"
   ]
  },
  {
   "cell_type": "code",
   "execution_count": null,
   "metadata": {},
   "outputs": [],
   "source": [
    "master.info()"
   ]
  },
  {
   "cell_type": "code",
   "execution_count": null,
   "metadata": {},
   "outputs": [],
   "source": [
    "new_dfs = []\n",
    "for df in dfs:\n",
    "    temp_df = df.copy()\n",
    "    temp_df['Notes'] = temp_df['Notes'].astype(str)\n",
    "    is_playoffs = False\n",
    "    shape_string = \"\"\n",
    "    playoff_ind = 1_000_000\n",
    "\n",
    "    if temp_df[temp_df[\"Date\"].str.lower() == \"playoffs\"].shape[0] > 0:\n",
    "        is_playoffs = True\n",
    "        playoff_ind = temp_df[temp_df[\"Date\"].str.lower() == \"playoffs\"].index[0]\n",
    "        temp_df[\"is_playoff\"] = np.where(temp_df.index >= playoff_ind, 1, 0)\n",
    "    elif temp_df[temp_df[\"Notes\"].str.lower() == \"play-in game\"].shape[0] > 0:\n",
    "        is_playoffs = True\n",
    "        playoff_ind = temp_df[temp_df[\"Notes\"].str.lower() == \"play-in game\"].index[0]\n",
    "        temp_df[\"is_playoff\"] = np.where(temp_df.index >= playoff_ind, 1, 0)\n",
    "    elif is_playoffs:\n",
    "        temp_df[\"is_playoff\"] = 1\n",
    "    else:\n",
    "        temp_df[\"is_playoff\"] = 0\n",
    "\n",
    "    temp_df[\"season_end_year\"] = [\"Date\"].str.split(\",\").str[-1].astype(int)[-1]\n",
    "    # temp_df[\"season_end_year\"] = season\n",
    "    # temp_df[\"season_url\"] = temp_url\n",
    "    # temp_df[\"link\"] = l\n",
    "    # shape_string += \" \" + str(temp_df.shape)\n",
    "\n",
    "    new_dfs.append(temp_df)\n",
    "    \n",
    "\n",
    "print(len(new_dfs))"
   ]
  },
  {
   "cell_type": "code",
   "execution_count": null,
   "metadata": {},
   "outputs": [],
   "source": [
    "master = pd.concat(new_dfs).reset_index(drop=True)\n",
    "print(master.shape)"
   ]
  },
  {
   "cell_type": "code",
   "execution_count": null,
   "metadata": {},
   "outputs": [],
   "source": [
    "dfs[14][\"Date\"].str.split(\",\").str[-1].astype(int)"
   ]
  }
 ],
 "metadata": {
  "kernelspec": {
   "display_name": "nba-fatigue",
   "language": "python",
   "name": "python3"
  },
  "language_info": {
   "codemirror_mode": {
    "name": "ipython",
    "version": 3
   },
   "file_extension": ".py",
   "mimetype": "text/x-python",
   "name": "python",
   "nbconvert_exporter": "python",
   "pygments_lexer": "ipython3",
   "version": "3.11.0"
  },
  "orig_nbformat": 4
 },
 "nbformat": 4,
 "nbformat_minor": 2
}
